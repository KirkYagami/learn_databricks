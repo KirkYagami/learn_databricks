{
  "cells": [
    {
      "cell_type": "markdown",
      "metadata": {
        "id": "FMsQb_qXTW_D"
      },
      "source": [
        "# Shared Variables\n",
        "\n",
        "Special variables that can be used in parallel operations. PySpark provides two types of shared variables:\n",
        "\n",
        "1. Broadcast variables\n",
        "2. Accumulators\n",
        "\n",
        "\n",
        "### 1. Broadcast Variables in PySpark\n",
        "\n",
        "#### Key Points:\n",
        "\n",
        "- **Definition**: Broadcast variables allow the programmer to keep a read-only variable cached on each machine rather than shipping a copy of it with tasks.\n",
        "- **Purpose**: They are useful for sharing large datasets across all nodes to avoid the overhead of serializing and deserializing the dataset multiple times.\n",
        "- **Read-Only**: Broadcast variables are read-only; they cannot be modified by the tasks once broadcasted."
      ]
    },
    {
      "cell_type": "code",
      "execution_count": 6,
      "metadata": {
        "id": "8k6oSOo-V7Ia"
      },
      "outputs": [],
      "source": []
    },
    {
      "cell_type": "code",
      "execution_count": 14,
      "metadata": {
        "id": "lXzrCfjoUmEK"
      },
      "outputs": [],
      "source": [
        "from pyspark import SparkConf, SparkContext\n",
        "\n",
        "conf = SparkConf().setAppName(\"BroadcastApp\").setMaster(\"local[*]\")\n",
        "sc = SparkContext(conf=conf)"
      ]
    },
    {
      "cell_type": "code",
      "execution_count": 16,
      "metadata": {
        "id": "oOEHsroNWa8A"
      },
      "outputs": [],
      "source": [
        "# Create an RDD from a list\n",
        "numbers = sc.parallelize([1, 2, 3, 4, 5, 6, 7, 8, 9, 10])\n"
      ]
    },
    {
      "cell_type": "code",
      "execution_count": 17,
      "metadata": {
        "colab": {
          "base_uri": "https://localhost:8080/"
        },
        "id": "N8-UDufCVfiF",
        "outputId": "3160c54e-ccf4-40f3-9f9b-4296ca3041d0"
      },
      "outputs": [
        {
          "name": "stdout",
          "output_type": "stream",
          "text": [
            "Original: [1, 2, 3, 4, 5, 6, 7, 8, 9, 10]\n",
            "Squared: [1, 4, 9, 16, 25, 36, 49, 64, 81, 100]\n"
          ]
        }
      ],
      "source": [
        "squared_numbers = numbers.map(lambda x: x ** 2)\n",
        "print(\"Original:\", numbers.collect())\n",
        "print(\"Squared:\", squared_numbers.collect())"
      ]
    },
    {
      "cell_type": "code",
      "execution_count": 13,
      "metadata": {
        "id": "WNkQNvKtWnkh"
      },
      "outputs": [],
      "source": []
    },
    {
      "cell_type": "code",
      "execution_count": 20,
      "metadata": {
        "colab": {
          "base_uri": "https://localhost:8080/"
        },
        "id": "YN-Cl48IWddd",
        "outputId": "0cf0816c-911a-4edb-865b-0280559aed98"
      },
      "outputs": [
        {
          "name": "stdout",
          "output_type": "stream",
          "text": [
            "['one', 'two', 'three', 'unknown', 'unknown']\n"
          ]
        }
      ],
      "source": [
        "# Large lookup table\n",
        "lookup_table = {1: \"one\", 2: \"two\", 3: \"three\"}\n",
        "\n",
        "# Broadcast the lookup table\n",
        "broadcast_lookup = sc.broadcast(lookup_table)\n",
        "\n",
        "# Data RDD\n",
        "data = sc.parallelize([1, 2, 3, 4, 5])\n",
        "\n",
        "# Use the broadcast variable in a transformation\n",
        "result = data.map(lambda x: broadcast_lookup.value.get(x, \"unknown\")).collect()\n",
        "\n",
        "print(result)"
      ]
    },
    {
      "cell_type": "markdown",
      "metadata": {
        "id": "q2_HHNwXYOkI"
      },
      "source": [
        "### 2. Accumulators in PySpark\n",
        "\n",
        "#### Key Points:\n",
        "\n",
        "- **Definition**: Accumulators are variables that are only “added” to through an associative and commutative operation and can be used to implement counters or sums.\n",
        "- **Purpose**: They are useful for aggregating information across the cluster, such as counting events or accumulating values.\n",
        "- **Write-Only from Workers**: Accumulators can be updated from the workers, but the value is only reliably read by the driver program.\n",
        "\n",
        "\n",
        "### Behavior and Characteristics:\n",
        "\n",
        "- **Initialization**:    \n",
        "    - An accumulator is created on the driver and initialized to a given value.\n",
        "- **Update Mechanism**:    \n",
        "    - Tasks running on workers add to the accumulator using operations like `+=`.\n",
        "    - Each task has its own local copy of the accumulator to which it writes.\n",
        "- **Aggregation**:    \n",
        "    - The driver program periodically aggregates these updates.\n",
        "    - The aggregated value can be accessed on the driver program using the `value` attribute."
      ]
    },
    {
      "cell_type": "code",
      "execution_count": 21,
      "metadata": {
        "colab": {
          "base_uri": "https://localhost:8080/"
        },
        "id": "B3dVtfs9Wy8C",
        "outputId": "93388a22-8293-490c-c684-582ad2a3de48"
      },
      "outputs": [
        {
          "name": "stdout",
          "output_type": "stream",
          "text": [
            "[\"it's good\", 'bad', \"it's good\", 'bad', \"it's good\"]\n",
            "2\n"
          ]
        }
      ],
      "source": [
        "error_count = sc.accumulator(0)\n",
        "\n",
        "data = sc.parallelize([\"good\", \"bad\", \"good\", \"bad\", \"good\"])\n",
        "\n",
        "def process_record(record):\n",
        "    global error_count\n",
        "    if record == \"bad\":\n",
        "        error_count += 1\n",
        "        return record\n",
        "    else:\n",
        "      return \"it's good\"\n",
        "\n",
        "\n",
        "\n",
        "processed_data = data.map(process_record)\n",
        "print(processed_data.collect())\n",
        "print(error_count.value)\n"
      ]
    },
    {
      "cell_type": "code",
      "execution_count": 22,
      "metadata": {
        "colab": {
          "base_uri": "https://localhost:8080/"
        },
        "id": "_P7fwkUmaah3",
        "outputId": "10b9132d-bcd5-429e-eda5-add156b62a7e"
      },
      "outputs": [
        {
          "name": "stdout",
          "output_type": "stream",
          "text": [
            "Total sales: 1001.5\n"
          ]
        }
      ],
      "source": [
        "\n",
        "\n",
        "total_sales = sc.accumulator(0.0)\n",
        "\n",
        "# Data RDD\n",
        "data = sc.parallelize([100.0, 200.5, 300.0, 150.75, 250.25])\n",
        "\n",
        "# Function to add sales amount to the accumulator\n",
        "def add_sales(sale):\n",
        "    global total_sales\n",
        "    total_sales += sale\n",
        "\n",
        "# Apply the function\n",
        "data.foreach(add_sales)\n",
        "\n",
        "# The value of the accumulator on the driver\n",
        "print(f\"Total sales: {total_sales.value}\")"
      ]
    },
    {
      "cell_type": "markdown",
      "metadata": {},
      "source": [
        "----"
      ]
    },
    {
      "cell_type": "markdown",
      "metadata": {
        "id": "fW18d62ya4B3"
      },
      "source": [
        "# Dataframes\n",
        "\n",
        "\n",
        "## Introduction to Spark DataFrames\n",
        "A Spark DataFrame is a distributed collection of data organized into named columns, similar to a table in a relational database. DataFrames provide a high-level API for working with structured data and integrate\n",
        "seamlessly with Spark’s SQL capabilities."
      ]
    },
    {
      "cell_type": "code",
      "execution_count": 23,
      "metadata": {
        "id": "GV5ktSMhasEh"
      },
      "outputs": [],
      "source": [
        "from pyspark.sql import SparkSession\n",
        "# Initialize SparkSession\n",
        "spark = SparkSession.builder \\\n",
        ".appName(\"Spark DataFrame\") \\\n",
        ".getOrCreate()"
      ]
    },
    {
      "cell_type": "code",
      "execution_count": 24,
      "metadata": {
        "colab": {
          "base_uri": "https://localhost:8080/"
        },
        "id": "aI2vfTmxbGnk",
        "outputId": "ab9fa0c9-5d70-4bd2-c50a-186da114a601"
      },
      "outputs": [
        {
          "name": "stdout",
          "output_type": "stream",
          "text": [
            "sucessfully downloaded the file\n"
          ]
        }
      ],
      "source": [
        "## HW:subprocess to download a file using wget or curl\n",
        "\n",
        "download_url = \"https://raw.githubusercontent.com/KirkYagami/PySpark_Training/refs/heads/main/PySpark/03_data/disney_plus_shows.csv\"\n",
        "\n",
        "import requests\n",
        "response = requests.get(download_url)\n",
        "\n",
        "if response.status_code == 200:\n",
        "  with open(\"disney_plus_shows.csv\", \"wb\") as file:\n",
        "      file.write(response.content)\n",
        "  print(\"sucessfully downloaded the file\")\n",
        "else:\n",
        "  print(f\"Failed to download the file. Status code: {response.status_code}\")\n",
        "\n"
      ]
    },
    {
      "cell_type": "code",
      "execution_count": 25,
      "metadata": {
        "id": "NauY47gybw4t"
      },
      "outputs": [],
      "source": [
        "disney_df = spark.read \\\n",
        "  .format(\"csv\") \\\n",
        "  .option(\"header\", \"true\") \\\n",
        "  .option(\"inferSchema\", \"true\") \\\n",
        "  .option(\"multiline\", \"true\") \\\n",
        "  .option(\"quote\", \"\\\"\") \\\n",
        "  .option(\"escape\", \"\\\"\") \\\n",
        "  .load(\"disney_plus_shows.csv\")"
      ]
    },
    {
      "cell_type": "code",
      "execution_count": 26,
      "metadata": {
        "colab": {
          "base_uri": "https://localhost:8080/",
          "height": 185
        },
        "id": "Rgj838yPcPpu",
        "outputId": "26b9d080-13bc-4b36-bc9b-17f77f72bcd8"
      },
      "outputs": [
        {
          "data": {
            "text/html": [
              "<div style=\"max-width:800px; border: 1px solid var(--colab-border-color);\"><style>\n",
              "      pre.function-repr-contents {\n",
              "        overflow-x: auto;\n",
              "        padding: 8px 12px;\n",
              "        max-height: 500px;\n",
              "      }\n",
              "\n",
              "      pre.function-repr-contents.function-repr-contents-collapsed {\n",
              "        cursor: pointer;\n",
              "        max-height: 100px;\n",
              "      }\n",
              "    </style>\n",
              "    <pre style=\"white-space: initial; background:\n",
              "         var(--colab-secondary-surface-color); padding: 8px 12px;\n",
              "         border-bottom: 1px solid var(--colab-border-color);\"><b>pyspark.sql.dataframe.DataFrame</b><br/>def __init__(jdf: JavaObject, sql_ctx: Union[&#x27;SQLContext&#x27;, &#x27;SparkSession&#x27;])</pre><pre class=\"function-repr-contents function-repr-contents-collapsed\" style=\"\"><a class=\"filepath\" style=\"display:none\" href=\"#\">/usr/local/lib/python3.11/dist-packages/pyspark/sql/dataframe.py</a>A distributed collection of data grouped into named columns.\n",
              "\n",
              ".. versionadded:: 1.3.0\n",
              "\n",
              ".. versionchanged:: 3.4.0\n",
              "    Supports Spark Connect.\n",
              "\n",
              "Examples\n",
              "--------\n",
              "A :class:`DataFrame` is equivalent to a relational table in Spark SQL,\n",
              "and can be created using various functions in :class:`SparkSession`:\n",
              "\n",
              "&gt;&gt;&gt; people = spark.createDataFrame([\n",
              "...     {&quot;deptId&quot;: 1, &quot;age&quot;: 40, &quot;name&quot;: &quot;Hyukjin Kwon&quot;, &quot;gender&quot;: &quot;M&quot;, &quot;salary&quot;: 50},\n",
              "...     {&quot;deptId&quot;: 1, &quot;age&quot;: 50, &quot;name&quot;: &quot;Takuya Ueshin&quot;, &quot;gender&quot;: &quot;M&quot;, &quot;salary&quot;: 100},\n",
              "...     {&quot;deptId&quot;: 2, &quot;age&quot;: 60, &quot;name&quot;: &quot;Xinrong Meng&quot;, &quot;gender&quot;: &quot;F&quot;, &quot;salary&quot;: 150},\n",
              "...     {&quot;deptId&quot;: 3, &quot;age&quot;: 20, &quot;name&quot;: &quot;Haejoon Lee&quot;, &quot;gender&quot;: &quot;M&quot;, &quot;salary&quot;: 200}\n",
              "... ])\n",
              "\n",
              "Once created, it can be manipulated using the various domain-specific-language\n",
              "(DSL) functions defined in: :class:`DataFrame`, :class:`Column`.\n",
              "\n",
              "To select a column from the :class:`DataFrame`, use the apply method:\n",
              "\n",
              "&gt;&gt;&gt; age_col = people.age\n",
              "\n",
              "A more concrete example:\n",
              "\n",
              "&gt;&gt;&gt; # To create DataFrame using SparkSession\n",
              "... department = spark.createDataFrame([\n",
              "...     {&quot;id&quot;: 1, &quot;name&quot;: &quot;PySpark&quot;},\n",
              "...     {&quot;id&quot;: 2, &quot;name&quot;: &quot;ML&quot;},\n",
              "...     {&quot;id&quot;: 3, &quot;name&quot;: &quot;Spark SQL&quot;}\n",
              "... ])\n",
              "\n",
              "&gt;&gt;&gt; people.filter(people.age &gt; 30).join(\n",
              "...     department, people.deptId == department.id).groupBy(\n",
              "...     department.name, &quot;gender&quot;).agg({&quot;salary&quot;: &quot;avg&quot;, &quot;age&quot;: &quot;max&quot;}).show()\n",
              "+-------+------+-----------+--------+\n",
              "|   name|gender|avg(salary)|max(age)|\n",
              "+-------+------+-----------+--------+\n",
              "|     ML|     F|      150.0|      60|\n",
              "|PySpark|     M|       75.0|      50|\n",
              "+-------+------+-----------+--------+\n",
              "\n",
              "Notes\n",
              "-----\n",
              "A DataFrame should only be created as described above. It should not be directly\n",
              "created via using the constructor.</pre>\n",
              "      <script>\n",
              "      if (google.colab.kernel.accessAllowed && google.colab.files && google.colab.files.view) {\n",
              "        for (const element of document.querySelectorAll('.filepath')) {\n",
              "          element.style.display = 'block'\n",
              "          element.onclick = (event) => {\n",
              "            event.preventDefault();\n",
              "            event.stopPropagation();\n",
              "            google.colab.files.view(element.textContent, 80);\n",
              "          };\n",
              "        }\n",
              "      }\n",
              "      for (const element of document.querySelectorAll('.function-repr-contents')) {\n",
              "        element.onclick = (event) => {\n",
              "          event.preventDefault();\n",
              "          event.stopPropagation();\n",
              "          element.classList.toggle('function-repr-contents-collapsed');\n",
              "        };\n",
              "      }\n",
              "      </script>\n",
              "      </div>"
            ],
            "text/plain": [
              "pyspark.sql.dataframe.DataFrame"
            ]
          },
          "execution_count": 26,
          "metadata": {},
          "output_type": "execute_result"
        }
      ],
      "source": [
        "type(disney_df)"
      ]
    },
    {
      "cell_type": "code",
      "execution_count": 27,
      "metadata": {
        "colab": {
          "base_uri": "https://localhost:8080/"
        },
        "id": "M-X2lhYBcTvr",
        "outputId": "c8303073-107f-4634-b814-8ecf59ae1fc1"
      },
      "outputs": [
        {
          "name": "stdout",
          "output_type": "stream",
          "text": [
            "root\n",
            " |-- imdb_id: string (nullable = true)\n",
            " |-- title: string (nullable = true)\n",
            " |-- plot: string (nullable = true)\n",
            " |-- type: string (nullable = true)\n",
            " |-- rated: string (nullable = true)\n",
            " |-- year: string (nullable = true)\n",
            " |-- released_at: string (nullable = true)\n",
            " |-- added_at: string (nullable = true)\n",
            " |-- runtime: string (nullable = true)\n",
            " |-- genre: string (nullable = true)\n",
            " |-- director: string (nullable = true)\n",
            " |-- writer: string (nullable = true)\n",
            " |-- actors: string (nullable = true)\n",
            " |-- language: string (nullable = true)\n",
            " |-- country: string (nullable = true)\n",
            " |-- awards: string (nullable = true)\n",
            " |-- metascore: string (nullable = true)\n",
            " |-- imdb_rating: string (nullable = true)\n",
            " |-- imdb_votes: string (nullable = true)\n",
            "\n"
          ]
        }
      ],
      "source": [
        "disney_df.printSchema()"
      ]
    },
    {
      "cell_type": "code",
      "execution_count": 30,
      "metadata": {
        "colab": {
          "base_uri": "https://localhost:8080/"
        },
        "id": "7jbN5E8Gcbc7",
        "outputId": "e10a1cfa-d1b6-4e81-8351-dfc5c41415fe"
      },
      "outputs": [
        {
          "name": "stdout",
          "output_type": "stream",
          "text": [
            "-RECORD 0-------------------------------------------------------------------------------------------------------------------------------------------------------------\n",
            " imdb_id     | tt0147800                                                                                                                                              \n",
            " title       | 10 Things I Hate About You                                                                                                                             \n",
            " plot        | A pretty, popular teenager can't go out on a date until her ill-tempered older sister does.                                                            \n",
            " type        | movie                                                                                                                                                  \n",
            " rated       | PG-13                                                                                                                                                  \n",
            " year        | 1999                                                                                                                                                   \n",
            " released_at | 31 Mar 1999                                                                                                                                            \n",
            " added_at    | November 12, 2019                                                                                                                                      \n",
            " runtime     | 97 min                                                                                                                                                 \n",
            " genre       | Comedy, Drama, Romance                                                                                                                                 \n",
            " director    | Gil Junger                                                                                                                                             \n",
            " writer      | Karen McCullah, Kirsten Smith                                                                                                                          \n",
            " actors      | Heath Ledger, Julia Stiles, Joseph Gordon-Levitt, Larisa Oleynik                                                                                       \n",
            " language    | English, French                                                                                                                                        \n",
            " country     | USA                                                                                                                                                    \n",
            " awards      | 2 wins & 13 nominations.                                                                                                                               \n",
            " metascore   | 70                                                                                                                                                     \n",
            " imdb_rating | 7.3                                                                                                                                                    \n",
            " imdb_votes  | 283,945                                                                                                                                                \n",
            "-RECORD 1-------------------------------------------------------------------------------------------------------------------------------------------------------------\n",
            " imdb_id     | tt7019028                                                                                                                                              \n",
            " title       | 101 Dalmatian Street                                                                                                                                   \n",
            " plot        | This series follows the lives of Delilah and Doug, descendants of Pongo and Perdita, and their 99 dalmatian pups at 101 Dalmatian Street, Camden Town. \n",
            " type        | series                                                                                                                                                 \n",
            " rated       | N/A                                                                                                                                                    \n",
            " year        | 2018–                                                                                                                                                  \n",
            " released_at | 25 Mar 2019                                                                                                                                            \n",
            " added_at    | February 28, 2020                                                                                                                                      \n",
            " runtime     | N/A                                                                                                                                                    \n",
            " genre       | Animation, Comedy, Family                                                                                                                              \n",
            " director    | N/A                                                                                                                                                    \n",
            " writer      | N/A                                                                                                                                                    \n",
            " actors      | Josh Brener, Michaela Dietz, Bert Davis, Abigail Zoe Lewis                                                                                             \n",
            " language    | English                                                                                                                                                \n",
            " country     | UK, USA, Canada                                                                                                                                        \n",
            " awards      | N/A                                                                                                                                                    \n",
            " metascore   | N/A                                                                                                                                                    \n",
            " imdb_rating | 6.2                                                                                                                                                    \n",
            " imdb_votes  | 124                                                                                                                                                    \n",
            "-RECORD 2-------------------------------------------------------------------------------------------------------------------------------------------------------------\n",
            " imdb_id     | tt0115433                                                                                                                                              \n",
            " title       | 101 Dalmatians                                                                                                                                         \n",
            " plot        | An evil high-fashion designer plots to steal Dalmatian puppies in order to make an extravagant fur coat, but instead creates an extravagant mess.      \n",
            " type        | movie                                                                                                                                                  \n",
            " rated       | G                                                                                                                                                      \n",
            " year        | 1996                                                                                                                                                   \n",
            " released_at | 27 Nov 1996                                                                                                                                            \n",
            " added_at    | November 12, 2019                                                                                                                                      \n",
            " runtime     | 103 min                                                                                                                                                \n",
            " genre       | Adventure, Comedy, Crime, Family                                                                                                                       \n",
            " director    | Stephen Herek                                                                                                                                          \n",
            " writer      | Dodie Smith (novel), John Hughes (screenplay)                                                                                                          \n",
            " actors      | Glenn Close, Jeff Daniels, Joely Richardson, Joan Plowright                                                                                            \n",
            " language    | English, Spanish                                                                                                                                       \n",
            " country     | USA, UK                                                                                                                                                \n",
            " awards      | Nominated for 1 Golden Globe. Another 3 wins & 9 nominations.                                                                                          \n",
            " metascore   | 49                                                                                                                                                     \n",
            " imdb_rating | 5.7                                                                                                                                                    \n",
            " imdb_votes  | 97,785                                                                                                                                                 \n",
            "only showing top 3 rows\n",
            "\n"
          ]
        }
      ],
      "source": [
        "disney_df.show(3, truncate=False, vertical=True)"
      ]
    },
    {
      "cell_type": "code",
      "execution_count": 31,
      "metadata": {
        "colab": {
          "base_uri": "https://localhost:8080/"
        },
        "id": "stfGkVguc7dI",
        "outputId": "4c54bd22-027f-409e-e1bf-1bbde804d95d"
      },
      "outputs": [
        {
          "name": "stdout",
          "output_type": "stream",
          "text": [
            "['imdb_id', 'title', 'plot', 'type', 'rated', 'year', 'released_at', 'added_at', 'runtime', 'genre', 'director', 'writer', 'actors', 'language', 'country', 'awards', 'metascore', 'imdb_rating', 'imdb_votes']\n"
          ]
        }
      ],
      "source": [
        "# Display column names\n",
        "print(disney_df.columns)"
      ]
    },
    {
      "cell_type": "code",
      "execution_count": 32,
      "metadata": {
        "colab": {
          "base_uri": "https://localhost:8080/"
        },
        "id": "EPRVZ0AtdUx7",
        "outputId": "e5b4ec0c-f08b-4da2-cec4-7c4b5224aad4"
      },
      "outputs": [
        {
          "name": "stdout",
          "output_type": "stream",
          "text": [
            "+------------------------------------------+---------------------------------------------------------------+-----------+\n",
            "|title                                     |genre                                                          |imdb_rating|\n",
            "+------------------------------------------+---------------------------------------------------------------+-----------+\n",
            "|10 Things I Hate About You                |Comedy, Drama, Romance                                         |7.3        |\n",
            "|101 Dalmatian Street                      |Animation, Comedy, Family                                      |6.2        |\n",
            "|101 Dalmatians                            |Adventure, Comedy, Crime, Family                               |5.7        |\n",
            "|101 Dalmatians 2: Patch's London Adventure|Animation, Adventure, Comedy, Family, Musical                  |5.8        |\n",
            "|102 Dalmatians                            |Adventure, Comedy, Family                                      |4.9        |\n",
            "|12 Dates of Christmas                     |Comedy, Fantasy, Romance                                       |6.3        |\n",
            "|20,000 Leagues Under the Sea              |Adventure, Drama, Family, Fantasy, Sci-Fi                      |7.2        |\n",
            "|A Bug's Life                              |Animation, Adventure, Comedy, Family                           |7.2        |\n",
            "|A Celebration of the Music from Coco      |Music                                                          |7.6        |\n",
            "|A Goofy Movie                             |Animation, Adventure, Comedy, Family, Musical, Romance         |6.8        |\n",
            "|A Kid in King Arthur's Court              |Adventure, Comedy, Family, Fantasy, Romance                    |4.7        |\n",
            "|A Knight for a Day                        |Animation, Short, Comedy                                       |7.0        |\n",
            "|A Ring of Endless Light                   |Drama, Family, Romance                                         |6.1        |\n",
            "|A Tale of Two Critters                    |Adventure, Family                                              |7.1        |\n",
            "|A Wrinkle in Time                         |Adventure, Family, Fantasy, Sci-Fi                             |4.2        |\n",
            "|Aladdin                                   |Adventure, Family, Fantasy, Musical, Romance                   |7.0        |\n",
            "|Aladdin                                   |Animation, Adventure, Comedy, Family, Fantasy, Musical, Romance|8.0        |\n",
            "|Aladdin and the King of Thieves           |Animation, Adventure, Comedy, Family, Fantasy, Musical, Romance|6.4        |\n",
            "|Aladdin and the Return of Jafar           |Animation, Adventure, Comedy, Family, Fantasy, Musical, Romance|5.9        |\n",
            "|Alice in Wonderland                       |Animation, Adventure, Family, Fantasy, Musical                 |7.4        |\n",
            "+------------------------------------------+---------------------------------------------------------------+-----------+\n",
            "only showing top 20 rows\n",
            "\n"
          ]
        }
      ],
      "source": [
        "# Select specific columns\n",
        "selected_columns = disney_df.select(\"title\", \"genre\", \"imdb_rating\")\n",
        "selected_columns.show(truncate=False)"
      ]
    },
    {
      "cell_type": "code",
      "execution_count": 33,
      "metadata": {
        "colab": {
          "base_uri": "https://localhost:8080/"
        },
        "id": "V7b3NrksdcOA",
        "outputId": "fc3698c4-3268-49e2-ce81-522dd3d14c02"
      },
      "outputs": [
        {
          "name": "stdout",
          "output_type": "stream",
          "text": [
            "+----------+------------------------------------+-------------------------------------------------------------------------------------------------------------------------------------------------------------------------------------------------------------------------------------------+------+---------+---------+-----------+-----------------+-------+---------------------------------------------------------------+-----------------------------------------------------------------------------------------------------------------------------------+--------------------------------------------------------------------------------------------------------------------------------------------------------------------------------------------------------------------------------------------------------------------------------------------------------------------------------------------------------------------------------------------------------------------------------------------------------------------------------------------------+----------------------------------------------------------------+----------------+-----------+--------------------------------------------------------+---------+-----------+----------+\n",
            "|imdb_id   |title                               |plot                                                                                                                                                                                                                                       |type  |rated    |year     |released_at|added_at         |runtime|genre                                                          |director                                                                                                                           |writer                                                                                                                                                                                                                                                                                                                                                                                                                                                                                            |actors                                                          |language        |country    |awards                                                  |metascore|imdb_rating|imdb_votes|\n",
            "+----------+------------------------------------+-------------------------------------------------------------------------------------------------------------------------------------------------------------------------------------------------------------------------------------------+------+---------+---------+-----------+-----------------+-------+---------------------------------------------------------------+-----------------------------------------------------------------------------------------------------------------------------------+--------------------------------------------------------------------------------------------------------------------------------------------------------------------------------------------------------------------------------------------------------------------------------------------------------------------------------------------------------------------------------------------------------------------------------------------------------------------------------------------------+----------------------------------------------------------------+----------------+-----------+--------------------------------------------------------+---------+-----------+----------+\n",
            "|tt0147800 |10 Things I Hate About You          |A pretty, popular teenager can't go out on a date until her ill-tempered older sister does.                                                                                                                                                |movie |PG-13    |1999     |31 Mar 1999|November 12, 2019|97 min |Comedy, Drama, Romance                                         |Gil Junger                                                                                                                         |Karen McCullah, Kirsten Smith                                                                                                                                                                                                                                                                                                                                                                                                                                                                     |Heath Ledger, Julia Stiles, Joseph Gordon-Levitt, Larisa Oleynik|English, French |USA        |2 wins & 13 nominations.                                |70       |7.3        |283,945   |\n",
            "|tt0046672 |20,000 Leagues Under the Sea        |A ship sent to investigate a wave of mysterious sinkings encounters the advanced submarine, the Nautilus, commanded by Captain Nemo.                                                                                                       |movie |G        |1954     |20 Jul 1955|November 12, 2019|127 min|Adventure, Drama, Family, Fantasy, Sci-Fi                      |Richard Fleischer                                                                                                                  |Earl Felton (screenplay)                                                                                                                                                                                                                                                                                                                                                                                                                                                                          |Kirk Douglas, James Mason, Paul Lukas, Peter Lorre              |English         |USA        |Won 2 Oscars. Another 3 wins & 3 nominations.           |83       |7.2        |27,761    |\n",
            "|tt0120623 |A Bug's Life                        |A misfit ant, looking for \"warriors\" to save his colony from greedy grasshoppers, recruits a group of bugs that turn out to be an inept circus troupe.                                                                                     |movie |G        |1998     |25 Nov 1998|November 12, 2019|95 min |Animation, Adventure, Comedy, Family                           |John Lasseter, Andrew Stanton(co-director)                                                                                         |John Lasseter (original story by), Andrew Stanton (original story by), Joe Ranft (original story by), Andrew Stanton (screenplay by), Don McEnery (screenplay by), Bob Shaw (screenplay by)                                                                                                                                                                                                                                                                                                       |Dave Foley, Kevin Spacey, Julia Louis-Dreyfus, Hayden Panettiere|English         |USA        |Nominated for 1 Oscar. Another 14 wins & 20 nominations.|77       |7.2        |257,065   |\n",
            "|tt12076020|A Celebration of the Music from Coco|N/A                                                                                                                                                                                                                                        |movie |N/A      |2020     |10 Apr 2020|April 10, 2020   |N/A    |Music                                                          |Ron de Moraes                                                                                                                      |N/A                                                                                                                                                                                                                                                                                                                                                                                                                                                                                               |Benjamin Bratt, Eva Longoria                                    |English         |USA        |N/A                                                     |N/A      |7.6        |35        |\n",
            "|tt0287003 |A Tale of Two Critters              |A bear cub and a raccoon become fast friends when they're swept away down a river, away from their families.                                                                                                                               |movie |G        |1977     |22 Jun 1977|April 3, 2020    |48 min |Adventure, Family                                              |Jack Speirs                                                                                                                        |Jack Speirs                                                                                                                                                                                                                                                                                                                                                                                                                                                                                       |Mayf Nutter                                                     |English         |USA        |N/A                                                     |N/A      |7.1        |59        |\n",
            "|tt0103639 |Aladdin                             |A kindhearted street urchin and a power-hungry Grand Vizier vie for a magic lamp that has the power to make their deepest wishes come true.                                                                                                |movie |G        |1992     |25 Nov 1992|November 12, 2019|90 min |Animation, Adventure, Comedy, Family, Fantasy, Musical, Romance|Ron Clements, John Musker                                                                                                          |Ron Clements (screenplay by), John Musker (screenplay by), Ted Elliott (screenplay by), Terry Rossio (screenplay by), Burny Mattinson (story), Roger Allers (story), Daan Jippes (story), Kevin Harkey (story), Sue C. Nichols (story), Francis Glebas (story), Darrell Rooney (story), Larry Leker (story), James Fujii (story), Kirk Hanson (story), Kevin Lima (story), Rebecca Rees (story), David S. Smith (story), Chris Sanders (story), Brian Pimental (story), Patrick A. Ventura (story)|Scott Weinger, Robin Williams, Linda Larkin, Jonathan Freeman   |English         |USA        |Won 2 Oscars. Another 31 wins & 22 nominations.         |86       |8.0        |356,283   |\n",
            "|tt0043274 |Alice in Wonderland                 |Alice stumbles into the world of Wonderland. Will she get home? Not if the Queen of Hearts has her way.                                                                                                                                    |movie |G        |1951     |14 Sep 1951|November 12, 2019|75 min |Animation, Adventure, Family, Fantasy, Musical                 |Clyde Geronimi, Wilfred Jackson, Hamilton Luske                                                                                    |Lewis Carroll (adaptation), Winston Hibler (story), Ted Sears (story), Bill Peet (story), Erdman Penner (story), Joe Rinaldi (story), Milt Banta (story), William Cottrell (story), Dick Kelsey (story), Joe Grant (story), Dick Huemer (story), Del Connell (story), Tom Oreb (story), John Walbridge (story)                                                                                                                                                                                    |Kathryn Beaumont, Ed Wynn, Richard Haydn, Sterling Holloway     |English         |USA        |Nominated for 1 Oscar. Another 1 nomination.            |68       |7.4        |123,377   |\n",
            "|tt0041112 |All in a Nutshell                   |Donald Duck battles with those mischievous chipmunks Chip and Dale who are intent on raiding his nut butter shop.                                                                                                                          |movie |Approved |1949     |02 Sep 1949|April 3, 2020    |7 min  |Family, Comedy, Animation, Short                               |Jack Hannah                                                                                                                        |Bill Berg (story), Nick George (story)                                                                                                                                                                                                                                                                                                                                                                                                                                                            |Dessie Flynn, James MacDonald, Clarence Nash                    |English         |USA        |N/A                                                     |N/A      |7.6        |572       |\n",
            "|tt0055740 |Almost Angels                       |Supported avidly by his mother and more reluctantly at first by his father, a working-class Austrian boy joins the Vienna Choirboys, where he proves to be unusually talented. The standard ...                                            |movie |Not Rated|1962     |26 Sep 1962|November 12, 2019|93 min |Comedy, Family, Music                                          |Steve Previn                                                                                                                       |Vernon Harris, Robert A. Stemmle (original story)                                                                                                                                                                                                                                                                                                                                                                                                                                                 |Vincent Winter, Sean Scully, Peter Weck, Hans Holt              |English         |USA        |N/A                                                     |N/A      |7.1        |309       |\n",
            "|tt4622802 |America's National Parks            |Series exploring the incredible wildlife of America's most iconic national parks.                                                                                                                                                          |series|TV-G     |2015–    |06 Dec 2015|January 15, 2020 |N/A    |Documentary                                                    |N/A                                                                                                                                |N/A                                                                                                                                                                                                                                                                                                                                                                                                                                                                                               |N/A                                                             |English         |USA        |N/A                                                     |N/A      |7.9        |73        |\n",
            "|tt5195114 |Andi Mack                           |A contemporary coming-of-age story about a girl who's trying to determine where she fits in, when her free-spirited older sister returns with a revelation that changes everything, it sends Andi on an uncharted course of self-discovery.|series|TV-G     |2017–2019|10 Mar 2017|November 12, 2019|25 min |Comedy, Family                                                 |N/A                                                                                                                                |Terri Minsky                                                                                                                                                                                                                                                                                                                                                                                                                                                                                      |Peyton Elizabeth Lee, Joshua Rush, Sofia Wylie, Asher Angel     |English         |USA        |3 wins & 6 nominations.                                 |N/A      |7.3        |1,723     |\n",
            "|tt9782756 |Apollo: Missions to the Moon        |In the late 1960s, the United States space program neared its goal of landing a man on the Moon, but it was a journey that began years before. This is the story of Project Apollo - 12 years...                                           |movie |Not Rated|2019     |07 Jul 2019|November 12, 2019|94 min |History                                                        |Tom Jennings                                                                                                                       |Tom Jennings (Writer)                                                                                                                                                                                                                                                                                                                                                                                                                                                                             |Buzz Aldrin, Bill Anders, Neil Armstrong, Frank Borman          |English         |USA        |4 nominations.                                          |N/A      |7.7        |130       |\n",
            "|tt8952294 |Auntie Edna                         |Edna babysits Jack-Jack, who uses his powers.                                                                                                                                                                                              |movie |N/A      |2018     |06 Nov 2018|November 12, 2019|5 min  |Animation, Short, Action, Adventure, Comedy, Family            |Ted Mathot                                                                                                                         |Ted Mathot                                                                                                                                                                                                                                                                                                                                                                                                                                                                                        |Brad Bird, Craig T. Nelson, Eli Fucile, Maeve Andrews           |English         |USA        |N/A                                                     |N/A      |7.1        |1,019     |\n",
            "|tt0499549 |Avatar                              |A paraplegic Marine dispatched to the moon Pandora on a unique mission becomes torn between following his orders and protecting the world he feels is his home.                                                                            |movie |PG-13    |2009     |18 Dec 2009|November 12, 2019|162 min|Action, Adventure, Fantasy, Sci-Fi                             |James Cameron                                                                                                                      |James Cameron                                                                                                                                                                                                                                                                                                                                                                                                                                                                                     |Sam Worthington, Zoe Saldana, Sigourney Weaver, Stephen Lang    |English, Spanish|USA        |Won 3 Oscars. Another 86 wins & 129 nominations.        |83       |7.8        |1,086,714 |\n",
            "|tt0034492 |Bambi                               |The story of a young deer growing up in the forest.                                                                                                                                                                                        |movie |G        |1942     |21 Aug 1942|November 12, 2019|70 min |Animation, Drama, Family                                       |James Algar, Samuel Armstrong, David Hand, Graham Heid, Bill Roberts, Paul Satterfield, Norman Wright, Arthur Davis, Clyde Geronimi|Felix Salten (from the story by), Perce Pearce (story direction), Larry Morey (story adaptation), Vernon Stallings (story development), Mel Shaw (story development), Carl Fallberg (story development), Chuck Couch (story development), Ralph Wright (story development)                                                                                                                                                                                                                        |Hardie Albright, Stan Alexander, Bobette Audrey, Peter Behn     |English         |USA        |Nominated for 3 Oscars. Another 6 wins & 3 nominations. |91       |7.3        |125,824   |\n",
            "|tt8075496 |Bao                                 |A Chinese-Canadian woman suffering from empty nest syndrome gets a second shot at motherhood when one of her handmade dumplings comes alive.                                                                                               |movie |G        |2018     |15 Jun 2018|November 12, 2019|8 min  |Animation, Short, Family, Fantasy                              |Domee Shi                                                                                                                          |Domee Shi                                                                                                                                                                                                                                                                                                                                                                                                                                                                                         |Sindy Lau, Daniel Kai Lin, Sharmaine Yeoh, Tim Zhang            |Chinese, English|USA, Canada|Won 1 Oscar. Another 4 nominations.                     |N/A      |7.5        |19,660    |\n",
            "|tt0047864 |Bearly Asleep                       |Park ranger Donald sends his bears off to hibernate, but Humphrey would rather stay in his hammock, run out for a glass of water, etc., than sleep; when he does get to sleep, his snoring ...                                             |movie |N/A      |1955     |19 Aug 1955|November 12, 2019|8 min  |Animation, Short, Comedy                                       |Jack Hannah                                                                                                                        |Al Bertino (story), David Detiege (story)                                                                                                                                                                                                                                                                                                                                                                                                                                                         |James MacDonald, Clarence Nash                                  |English         |USA        |N/A                                                     |N/A      |7.6        |254       |\n",
            "|tt0101414 |Beauty and the Beast                |A prince cursed to spend his days as a hideous monster sets out to regain his humanity by earning a young woman's love.                                                                                                                    |movie |G        |1991     |22 Nov 1991|November 12, 2019|84 min |Animation, Family, Fantasy, Musical, Romance                   |Gary Trousdale, Kirk Wise                                                                                                          |Linda Woolverton (animation screenplay by), Brenda Chapman (story by), Chris Sanders (story by), Burny Mattinson (story by), Kevin Harkey (story by), Brian Pimental (story by), Bruce Woodside (story by), Joe Ranft (story by), Tom Ellery (story by), Kelly Asbury (story by), Robert Lence (story by)                                                                                                                                                                                         |Robby Benson, Jesse Corti, Rex Everhart, Angela Lansbury        |English, French |USA        |Won 2 Oscars. Another 27 wins & 34 nominations.         |95       |8.0        |404,632   |\n",
            "|tt0066817 |Bedknobs and Broomsticks            |An apprentice witch, three kids and a cynical magician conman search for the missing component to a magic spell to be used in the defense of Britain in World War II.                                                                      |movie |G        |1971     |13 Dec 1971|October 1, 2019  |117 min|Animation, Adventure, Comedy, Family, Fantasy, Musical         |Robert Stevenson, Ward Kimball                                                                                                     |Ralph Wright (animation story), Ted Berman (animation story), Bill Walsh (screenplay), Don DaGradi (screenplay), Mary Norton (book)                                                                                                                                                                                                                                                                                                                                                               |Angela Lansbury, David Tomlinson, Roddy McDowall, Sam Jaffe     |English, German |USA        |Won 1 Oscar. Another 1 win & 5 nominations.             |59       |7.1        |32,823    |\n",
            "|tt0047867 |Beezy Bear                          |Beekeeper Donald catches Humphrey the bear raiding his hives. He complains to Ranger Woodlore, who assembles his bears and lectures them. Donald puts up a barbed wire fence, which slows ...                                              |movie |N/A      |1955     |02 Sep 1955|November 12, 2019|7 min  |Animation, Comedy, Family                                      |Jack Hannah                                                                                                                        |David Detiege (story), Al Bertino (story)                                                                                                                                                                                                                                                                                                                                                                                                                                                         |James MacDonald, Clarence Nash, Bill Thompson                   |English         |USA        |N/A                                                     |N/A      |7.4        |269       |\n",
            "+----------+------------------------------------+-------------------------------------------------------------------------------------------------------------------------------------------------------------------------------------------------------------------------------------------+------+---------+---------+-----------+-----------------+-------+---------------------------------------------------------------+-----------------------------------------------------------------------------------------------------------------------------------+--------------------------------------------------------------------------------------------------------------------------------------------------------------------------------------------------------------------------------------------------------------------------------------------------------------------------------------------------------------------------------------------------------------------------------------------------------------------------------------------------+----------------------------------------------------------------+----------------+-----------+--------------------------------------------------------+---------+-----------+----------+\n",
            "only showing top 20 rows\n",
            "\n"
          ]
        }
      ],
      "source": [
        "high_rated_shows = disney_df.filter(disney_df.imdb_rating > 7.0)\n",
        "high_rated_shows.show(truncate=False)"
      ]
    },
    {
      "cell_type": "markdown",
      "metadata": {
        "id": "b-1PhULVd5k3"
      },
      "source": [
        "## The Four Primary Column Selection Methods\n",
        "### Method 1: String Literals - The Simple Approach\n",
        "\n",
        "String literals represent the most straightforward way to reference columns. You simply use the column name as a string."
      ]
    },
    {
      "cell_type": "code",
      "execution_count": 34,
      "metadata": {
        "colab": {
          "base_uri": "https://localhost:8080/"
        },
        "id": "-AUUfAHTdilD",
        "outputId": "033613d2-ea3b-4ec2-cf35-484715c27e11"
      },
      "outputs": [
        {
          "name": "stdout",
          "output_type": "stream",
          "text": [
            "+--------------------+--------------------+-----------+\n",
            "|               title|               genre|imdb_rating|\n",
            "+--------------------+--------------------+-----------+\n",
            "|10 Things I Hate ...|Comedy, Drama, Ro...|        7.3|\n",
            "|101 Dalmatian Street|Animation, Comedy...|        6.2|\n",
            "|      101 Dalmatians|Adventure, Comedy...|        5.7|\n",
            "|101 Dalmatians 2:...|Animation, Advent...|        5.8|\n",
            "|      102 Dalmatians|Adventure, Comedy...|        4.9|\n",
            "+--------------------+--------------------+-----------+\n",
            "only showing top 5 rows\n",
            "\n"
          ]
        }
      ],
      "source": [
        "# Basic string literal selection\n",
        "disney_df.select(\"title\", \"genre\", \"imdb_rating\").show(5)"
      ]
    },
    {
      "cell_type": "code",
      "execution_count": 35,
      "metadata": {
        "colab": {
          "base_uri": "https://localhost:8080/"
        },
        "id": "Dqi6QyITd-O4",
        "outputId": "fa65f5d1-e3b6-4626-c1d5-edcc311a9018"
      },
      "outputs": [
        {
          "name": "stdout",
          "output_type": "stream",
          "text": [
            "+-------+-----+\n",
            "|   type|count|\n",
            "+-------+-----+\n",
            "|   NULL|   98|\n",
            "|episode|   23|\n",
            "|  movie|  680|\n",
            "| series|  191|\n",
            "+-------+-----+\n",
            "\n"
          ]
        }
      ],
      "source": [
        "# String literals work well with groupBy operations\n",
        "disney_df.groupBy(\"type\").count().show()"
      ]
    },
    {
      "cell_type": "code",
      "execution_count": 36,
      "metadata": {
        "colab": {
          "base_uri": "https://localhost:8080/"
        },
        "id": "5vfucpNbeDa3",
        "outputId": "1f3d713d-c9ba-4ea2-8fe4-c8a94c179c48"
      },
      "outputs": [
        {
          "name": "stdout",
          "output_type": "stream",
          "text": [
            "+--------------------+-----+--------------------+\n",
            "|               title| year|               genre|\n",
            "+--------------------+-----+--------------------+\n",
            "|101 Dalmatian Street|2018–|Animation, Comedy...|\n",
            "|A Celebration of ...| 2020|               Music|\n",
            "|   A Wrinkle in Time| 2018|Adventure, Family...|\n",
            "|             Aladdin| 2019|Adventure, Family...|\n",
            "|America's Nationa...|2015–|         Documentary|\n",
            "+--------------------+-----+--------------------+\n",
            "only showing top 5 rows\n",
            "\n"
          ]
        }
      ],
      "source": [
        "# You can mix string literals in various operations\n",
        "disney_df.filter(\"year > '2015'\").select(\"title\", \"year\", \"genre\").show(5)"
      ]
    },
    {
      "cell_type": "markdown",
      "metadata": {
        "id": "QglJ-W9QeRUt"
      },
      "source": [
        "**When to use string literals:**\n",
        "\n",
        "- Simple column selections without any transformations\n",
        "- GroupBy operations where you're just specifying grouping columns\n",
        "- Basic filtering operations with simple conditions\n",
        "- When you want clean, readable code for straightforward operations\n",
        "\n",
        "**Limitations of string literals:**\n",
        "\n",
        "- No support for column expressions or transformations\n",
        "- Cannot chain operations like `.desc()` or `.alias()`\n",
        "- Limited to basic column references only\n",
        "- Cannot be used for mathematical operations between columns"
      ]
    },
    {
      "cell_type": "markdown",
      "metadata": {
        "id": "D3UUhhJ0efmu"
      },
      "source": [
        "### Method 2: DataFrame Dot Notation - The Object-Oriented Way\n",
        "\n",
        "Dot notation treats columns as attributes of the DataFrame object, giving you access to Column objects that support more operations."
      ]
    },
    {
      "cell_type": "code",
      "execution_count": 37,
      "metadata": {
        "colab": {
          "base_uri": "https://localhost:8080/"
        },
        "id": "cVmL0HXYeKae",
        "outputId": "8b6771a1-8458-4390-a6c5-c2fa17d16d82"
      },
      "outputs": [
        {
          "name": "stdout",
          "output_type": "stream",
          "text": [
            "+--------------------+--------------------+-----------+\n",
            "|               title|               genre|imdb_rating|\n",
            "+--------------------+--------------------+-----------+\n",
            "|10 Things I Hate ...|Comedy, Drama, Ro...|        7.3|\n",
            "|101 Dalmatian Street|Animation, Comedy...|        6.2|\n",
            "|      101 Dalmatians|Adventure, Comedy...|        5.7|\n",
            "|101 Dalmatians 2:...|Animation, Advent...|        5.8|\n",
            "|      102 Dalmatians|Adventure, Comedy...|        4.9|\n",
            "+--------------------+--------------------+-----------+\n",
            "only showing top 5 rows\n",
            "\n"
          ]
        }
      ],
      "source": [
        "# Using dot notation for column selection\n",
        "disney_df.select(disney_df.title, disney_df.genre, disney_df.imdb_rating).show(5)\n"
      ]
    },
    {
      "cell_type": "code",
      "execution_count": 39,
      "metadata": {
        "id": "fGwjppJRe7Cb"
      },
      "outputs": [],
      "source": []
    },
    {
      "cell_type": "code",
      "execution_count": 38,
      "metadata": {
        "colab": {
          "base_uri": "https://localhost:8080/"
        },
        "id": "2J8aXwM1eo6M",
        "outputId": "c117a4ca-aaa3-4c19-afbd-721f34d4649b"
      },
      "outputs": [
        {
          "name": "stdout",
          "output_type": "stream",
          "text": [
            "+--------------------+--------------+-----------+\n",
            "|               title|rating_numeric|genre_short|\n",
            "+--------------------+--------------+-----------+\n",
            "|10 Things I Hate ...|           7.3| Comedy, Dr|\n",
            "|101 Dalmatian Street|           6.2| Animation,|\n",
            "|      101 Dalmatians|           5.7| Adventure,|\n",
            "|101 Dalmatians 2:...|           5.8| Animation,|\n",
            "|      102 Dalmatians|           4.9| Adventure,|\n",
            "+--------------------+--------------+-----------+\n",
            "only showing top 5 rows\n",
            "\n"
          ]
        }
      ],
      "source": [
        "# Dot notation supports expressions and transformations\n",
        "disney_df.select(\n",
        "    disney_df.title,\n",
        "    disney_df.imdb_rating.cast(\"double\").alias(\"rating_numeric\"),\n",
        "    disney_df.genre.substr(1, 10).alias(\"genre_short\")\n",
        ").show(5)"
      ]
    },
    {
      "cell_type": "code",
      "execution_count": 40,
      "metadata": {
        "colab": {
          "base_uri": "https://localhost:8080/"
        },
        "id": "r44iykP7e0hx",
        "outputId": "57208a2c-f354-4c22-81ff-15b230151bcf"
      },
      "outputs": [
        {
          "name": "stdout",
          "output_type": "stream",
          "text": [
            "+--------------------+-----------+-----+\n",
            "|               title|imdb_rating| year|\n",
            "+--------------------+-----------+-----+\n",
            "|       Holiday Magic|        N/A| 2017|\n",
            "|        Episode #2.7|        N/A| 2013|\n",
            "|Disneyland Around...|        N/A| 1966|\n",
            "|     Dog: Impossible|        N/A|2019–|\n",
            "|Incredible! The S...|        N/A| 2015|\n",
            "+--------------------+-----------+-----+\n",
            "only showing top 5 rows\n",
            "\n"
          ]
        }
      ],
      "source": [
        "# You can use dot notation in orderBy operations\n",
        "disney_df.select(\"title\", \"imdb_rating\", \"year\").orderBy(disney_df.imdb_rating.desc()).show(5)"
      ]
    },
    {
      "cell_type": "markdown",
      "metadata": {
        "id": "guhJZn2VfX7X"
      },
      "source": [
        "**When to use dot notation:**\n",
        "\n",
        "- When you need to apply transformations to columns\n",
        "- For chaining operations like `.alias()`, `.desc()`, `.asc()`\n",
        "- When working with column expressions\n",
        "- For type casting and string operations on columns\n",
        "\n",
        "**Limitations of dot notation:**\n",
        "\n",
        "- Column names must be valid Python identifiers (no spaces, special characters)\n",
        "- Doesn't work with column names stored in variables\n",
        "- Can become verbose when referencing the same DataFrame repeatedly\n",
        "- Fails with column names that conflict with DataFrame methods"
      ]
    },
    {
      "cell_type": "markdown",
      "metadata": {
        "id": "RP2SZQNifb45"
      },
      "source": [
        "```\n",
        "\n",
        "# This won't work if you have a column named \"count\" or \"select\"\n",
        "# disney_df.count  # This refers to the DataFrame method, not a column\n",
        "\n",
        "# This won't work with spaces in column names\n",
        "# disney_df.imdb rating  # Syntax error due to space\n",
        "\n",
        "```"
      ]
    },
    {
      "cell_type": "markdown",
      "metadata": {
        "id": "REybQZUhfkLI"
      },
      "source": [
        "### Method 3: DataFrame Bracket Notation - The Flexible Approach\n",
        "\n",
        "Bracket notation is similar to dot notation but uses dictionary-style access, making it more flexible for problematic column names."
      ]
    },
    {
      "cell_type": "code",
      "execution_count": 41,
      "metadata": {
        "colab": {
          "base_uri": "https://localhost:8080/"
        },
        "id": "MVS-K_nVfRKc",
        "outputId": "79b02d3b-0fcd-43e8-d375-ce261b1fa7e3"
      },
      "outputs": [
        {
          "name": "stdout",
          "output_type": "stream",
          "text": [
            "+--------------------+--------------------+-----------+\n",
            "|               title|               genre|imdb_rating|\n",
            "+--------------------+--------------------+-----------+\n",
            "|10 Things I Hate ...|Comedy, Drama, Ro...|        7.3|\n",
            "|101 Dalmatian Street|Animation, Comedy...|        6.2|\n",
            "|      101 Dalmatians|Adventure, Comedy...|        5.7|\n",
            "|101 Dalmatians 2:...|Animation, Advent...|        5.8|\n",
            "|      102 Dalmatians|Adventure, Comedy...|        4.9|\n",
            "+--------------------+--------------------+-----------+\n",
            "only showing top 5 rows\n",
            "\n"
          ]
        }
      ],
      "source": [
        "# Basic bracket notation usage\n",
        "disney_df.select(disney_df[\"title\"], disney_df[\"genre\"], disney_df[\"imdb_rating\"]).show(5)\n",
        "# Bracket notation handles any column name, including those with spaces\n"
      ]
    },
    {
      "cell_type": "code",
      "execution_count": 42,
      "metadata": {
        "colab": {
          "base_uri": "https://localhost:8080/"
        },
        "id": "qjKlKtPzftJf",
        "outputId": "de3a4df4-94d9-49ca-903b-042a9f066ff8"
      },
      "outputs": [
        {
          "name": "stdout",
          "output_type": "stream",
          "text": [
            "+--------------------+--------------------+-----------+-----+\n",
            "|               title|               genre|imdb_rating| year|\n",
            "+--------------------+--------------------+-----------+-----+\n",
            "|10 Things I Hate ...|Comedy, Drama, Ro...|        7.3| 1999|\n",
            "|101 Dalmatian Street|Animation, Comedy...|        6.2|2018–|\n",
            "|      101 Dalmatians|Adventure, Comedy...|        5.7| 1996|\n",
            "|101 Dalmatians 2:...|Animation, Advent...|        5.8| 2002|\n",
            "|      102 Dalmatians|Adventure, Comedy...|        4.9| 2000|\n",
            "+--------------------+--------------------+-----------+-----+\n",
            "only showing top 5 rows\n",
            "\n"
          ]
        }
      ],
      "source": [
        "\n",
        "# Using variables with bracket notation - very powerful feature\n",
        "columns_of_interest = [\"title\", \"genre\", \"imdb_rating\", \"year\"]\n",
        "disney_df.select([disney_df[col] for col in columns_of_interest]).show(5)"
      ]
    },
    {
      "cell_type": "code",
      "execution_count": 43,
      "metadata": {
        "colab": {
          "base_uri": "https://localhost:8080/"
        },
        "id": "mOX5zg0Hf883",
        "outputId": "05f93162-cc73-4f65-bad0-70c21efcf19d"
      },
      "outputs": [
        {
          "name": "stdout",
          "output_type": "stream",
          "text": [
            "+--------------------+--------------+------------+\n",
            "|               title|numeric_rating|release_year|\n",
            "+--------------------+--------------+------------+\n",
            "|10 Things I Hate ...|           7.3|        1999|\n",
            "|101 Dalmatian Street|           6.2|        NULL|\n",
            "|      101 Dalmatians|           5.7|        1996|\n",
            "|101 Dalmatians 2:...|           5.8|        2002|\n",
            "|      102 Dalmatians|           4.9|        2000|\n",
            "+--------------------+--------------+------------+\n",
            "only showing top 5 rows\n",
            "\n"
          ]
        }
      ],
      "source": [
        "# Bracket notation supports all the same expressions as dot notation\n",
        "disney_df.select(\n",
        "    disney_df[\"title\"],\n",
        "    disney_df[\"imdb_rating\"].cast(\"double\").alias(\"numeric_rating\"),\n",
        "    disney_df[\"year\"].cast(\"integer\").alias(\"release_year\")\n",
        ").show(5)"
      ]
    },
    {
      "cell_type": "code",
      "execution_count": 44,
      "metadata": {
        "colab": {
          "base_uri": "https://localhost:8080/"
        },
        "id": "zQAy3FsugBK_",
        "outputId": "8c54295a-e4d1-4c01-ceb7-db6944c1ce5e"
      },
      "outputs": [
        {
          "name": "stdout",
          "output_type": "stream",
          "text": [
            "+--------------------+-----------+\n",
            "|               title|imdb_rating|\n",
            "+--------------------+-----------+\n",
            "|10 Things I Hate ...|        7.3|\n",
            "|101 Dalmatian Street|        6.2|\n",
            "|      101 Dalmatians|        5.7|\n",
            "|101 Dalmatians 2:...|        5.8|\n",
            "|      102 Dalmatians|        4.9|\n",
            "+--------------------+-----------+\n",
            "only showing top 5 rows\n",
            "\n"
          ]
        }
      ],
      "source": [
        "\n",
        "# Dynamic column selection based on conditions\n",
        "rating_columns = [col for col in disney_df.columns if \"rating\" in col.lower()]\n",
        "disney_df.select([\"title\"] + [disney_df[col] for col in rating_columns]).show(5)\n"
      ]
    },
    {
      "cell_type": "markdown",
      "metadata": {
        "id": "8XFm93qJgZxo"
      },
      "source": [
        "**When to use bracket notation:**\n",
        "\n",
        "- Column names contain spaces, special characters, or reserved words\n",
        "- Dynamic column selection using variables or loops\n",
        "- When column names are stored in lists or generated programmatically\n",
        "- Any situation where dot notation limitations become problematic\n",
        "\n",
        "**Advantages of bracket notation:**\n",
        "\n",
        "- Works with any column name regardless of special characters\n",
        "- Supports dynamic column references through variables\n",
        "- All the expression capabilities of dot notation\n",
        "- More flexible for programmatic column selection"
      ]
    },
    {
      "cell_type": "markdown",
      "metadata": {
        "id": "L4L2kV2bgeSU"
      },
      "source": [
        "### Method 4: col() Function - The Universal Solution\n",
        "\n",
        "The `col()` function from `pyspark.sql.functions` is the most versatile approach and is required in many contexts."
      ]
    },
    {
      "cell_type": "code",
      "execution_count": 46,
      "metadata": {
        "colab": {
          "base_uri": "https://localhost:8080/"
        },
        "id": "hM2AvUJYgPoj",
        "outputId": "ca5ca9e6-5765-4de8-e77a-7174a4d34b24"
      },
      "outputs": [
        {
          "name": "stdout",
          "output_type": "stream",
          "text": [
            "+--------------------+--------------------+-----------+\n",
            "|               title|               genre|imdb_rating|\n",
            "+--------------------+--------------------+-----------+\n",
            "|10 Things I Hate ...|Comedy, Drama, Ro...|        7.3|\n",
            "|101 Dalmatian Street|Animation, Comedy...|        6.2|\n",
            "|      101 Dalmatians|Adventure, Comedy...|        5.7|\n",
            "|101 Dalmatians 2:...|Animation, Advent...|        5.8|\n",
            "|      102 Dalmatians|Adventure, Comedy...|        4.9|\n",
            "+--------------------+--------------------+-----------+\n",
            "only showing top 5 rows\n",
            "\n"
          ]
        }
      ],
      "source": [
        "from pyspark.sql.functions import col, count, avg, max, min, desc, asc\n",
        "\n",
        "# Basic col() usage\n",
        "disney_df.select(col(\"title\"), col(\"genre\"), col(\"imdb_rating\")).show(5)\n",
        "\n",
        "\n"
      ]
    },
    {
      "cell_type": "code",
      "execution_count": 47,
      "metadata": {
        "colab": {
          "base_uri": "https://localhost:8080/"
        },
        "id": "ceZ3OVSngtyC",
        "outputId": "5469a03c-966f-41ba-c0dd-6213d893d26f"
      },
      "outputs": [
        {
          "name": "stdout",
          "output_type": "stream",
          "text": [
            "+--------------------+-----------+------------------+\n",
            "|               genre|movie_count|        avg_rating|\n",
            "+--------------------+-----------+------------------+\n",
            "|Animation, Advent...|          1|               6.5|\n",
            "|Animation, Comedy...|          1|               6.7|\n",
            "|Adventure, Biogra...|          1|               8.1|\n",
            "|Adventure, Comedy...|          1|               4.7|\n",
            "|Family, Romance, ...|          1|               5.4|\n",
            "|Animation, Action...|          5|               6.4|\n",
            "|Animation, Advent...|          1|               6.1|\n",
            "|Action, Adventure...|          6|7.1499999999999995|\n",
            "|Animation, Comedy...|          3| 6.533333333333334|\n",
            "|Documentary, Hist...|          1|               7.6|\n",
            "|Adventure, Family...|          1|               8.5|\n",
            "|Action, Adventure...|          1|               6.5|\n",
            "|Documentary, Biog...|          2|              7.85|\n",
            "|Documentary, Adve...|          1|               4.7|\n",
            "|  Documentary, Music|          2|               1.9|\n",
            "|Animation, Advent...|          1|               8.4|\n",
            "|Family, Comedy, A...|          1|               7.3|\n",
            "|Adventure, Comedy...|          1|               5.3|\n",
            "|Adventure, Family...|          1|               5.9|\n",
            "|Animation, Short,...|          1|               7.6|\n",
            "+--------------------+-----------+------------------+\n",
            "only showing top 20 rows\n",
            "\n"
          ]
        }
      ],
      "source": [
        "# col() is required in many aggregation contexts\n",
        "disney_df.groupBy(\"genre\").agg(\n",
        "    count(col(\"title\")).alias(\"movie_count\"),\n",
        "    avg(col(\"imdb_rating\").cast(\"double\")).alias(\"avg_rating\")\n",
        ").show()"
      ]
    },
    {
      "cell_type": "code",
      "execution_count": 48,
      "metadata": {
        "colab": {
          "base_uri": "https://localhost:8080/"
        },
        "id": "o0bVJhnXg5d7",
        "outputId": "4f7117bf-fde9-4d90-9669-5bddc3a4f496"
      },
      "outputs": [
        {
          "name": "stdout",
          "output_type": "stream",
          "text": [
            "+--------------------+-----------+-----+\n",
            "|               title|imdb_rating| year|\n",
            "+--------------------+-----------+-----+\n",
            "|       Holiday Magic|        N/A| 2017|\n",
            "|        Episode #2.7|        N/A| 2013|\n",
            "|Disneyland Around...|        N/A| 1966|\n",
            "|     Dog: Impossible|        N/A|2019–|\n",
            "|Incredible! The S...|        N/A| 2015|\n",
            "+--------------------+-----------+-----+\n",
            "only showing top 5 rows\n",
            "\n"
          ]
        }
      ],
      "source": [
        "# col() works seamlessly with ordering operations\n",
        "disney_df.select(\"title\", \"imdb_rating\", \"year\").orderBy(col(\"imdb_rating\").desc()).show(5)"
      ]
    },
    {
      "cell_type": "code",
      "execution_count": 49,
      "metadata": {
        "colab": {
          "base_uri": "https://localhost:8080/"
        },
        "id": "GlFJSSwxhAXt",
        "outputId": "d0ab5b57-de2e-4592-f48d-13b5333581eb"
      },
      "outputs": [
        {
          "name": "stdout",
          "output_type": "stream",
          "text": [
            "+--------------------+------+-----------+\n",
            "|               title|rating|future_year|\n",
            "+--------------------+------+-----------+\n",
            "|10 Things I Hate ...|   7.3|       2009|\n",
            "|101 Dalmatian Street|   6.2|       NULL|\n",
            "|      101 Dalmatians|   5.7|       2006|\n",
            "|101 Dalmatians 2:...|   5.8|       2012|\n",
            "|      102 Dalmatians|   4.9|       2010|\n",
            "+--------------------+------+-----------+\n",
            "only showing top 5 rows\n",
            "\n"
          ]
        }
      ],
      "source": [
        "# col() is essential for complex expressions in select statements\n",
        "disney_df.select(\n",
        "    col(\"title\"),\n",
        "    col(\"imdb_rating\").cast(\"double\").alias(\"rating\"),\n",
        "    (col(\"year\").cast(\"integer\") + 10).alias(\"future_year\")\n",
        ").show(5)"
      ]
    },
    {
      "cell_type": "code",
      "execution_count": 50,
      "metadata": {
        "colab": {
          "base_uri": "https://localhost:8080/"
        },
        "id": "3HpB5aLZhHYX",
        "outputId": "ea2b923e-2f77-4a0a-e98e-17dc57944707"
      },
      "outputs": [
        {
          "name": "stdout",
          "output_type": "stream",
          "text": [
            "+--------------------+------+----------+--------------+\n",
            "|               title|rating|meta_score|combined_score|\n",
            "+--------------------+------+----------+--------------+\n",
            "|10 Things I Hate ...|   7.3|      70.0|         143.0|\n",
            "|101 Dalmatian Street|   6.2|      NULL|          NULL|\n",
            "|      101 Dalmatians|   5.7|      49.0|         106.0|\n",
            "|101 Dalmatians 2:...|   5.8|      NULL|          NULL|\n",
            "|      102 Dalmatians|   4.9|      35.0|          84.0|\n",
            "+--------------------+------+----------+--------------+\n",
            "only showing top 5 rows\n",
            "\n"
          ]
        }
      ],
      "source": [
        "# col() enables mathematical operations between columns\n",
        "# Let's create a derived column using multiple existing columns\n",
        "disney_df.select(\n",
        "    col(\"title\"),\n",
        "    col(\"imdb_rating\").cast(\"double\").alias(\"rating\"),\n",
        "    col(\"metascore\").cast(\"double\").alias(\"meta_score\"),\n",
        "    (col(\"imdb_rating\").cast(\"double\") * 10 + col(\"metascore\").cast(\"double\")).alias(\"combined_score\")\n",
        ").show(5)"
      ]
    },
    {
      "cell_type": "markdown",
      "metadata": {
        "id": "1pqxzdlDhfj4"
      },
      "source": [
        "**When to use col():**\n",
        "\n",
        "- Inside aggregation functions (required)\n",
        "- Complex column expressions and mathematical operations\n",
        "- When working with functions from `pyspark.sql.functions`\n",
        "- Ordering operations that need `.desc()` or `.asc()`\n",
        "- Any context where other methods don't work\n",
        "\n",
        "**Why col() is often the best choice:**\n",
        "\n",
        "- Works in all contexts where other methods work\n",
        "- Required by many PySpark functions\n",
        "- Provides consistent behavior across different operations\n",
        "- Most explicit and clear about your intentions"
      ]
    },
    {
      "cell_type": "markdown",
      "metadata": {
        "id": "hF4j2-wIh2XT"
      },
      "source": [
        "## Null Handling🕵\n",
        "Null values are common in datasets, representing missing, unknown, or undefined data. Properly handling these null values is crucial for accurate data analysis and processing."
      ]
    },
    {
      "cell_type": "code",
      "execution_count": 51,
      "metadata": {
        "colab": {
          "base_uri": "https://localhost:8080/"
        },
        "id": "jOzoa7SPhWXE",
        "outputId": "e4e1d5e2-56fc-4840-eb4d-dc9dd2a28314"
      },
      "outputs": [
        {
          "name": "stdout",
          "output_type": "stream",
          "text": [
            "+-------+-----+----+----+-----+----+-----------+-----------------+-------+-----+--------+------+------+--------+-------+------+---------+-----------+----------+\n",
            "|imdb_id|title|plot|type|rated|year|released_at|added_at         |runtime|genre|director|writer|actors|language|country|awards|metascore|imdb_rating|imdb_votes|\n",
            "+-------+-----+----+----+-----+----+-----------+-----------------+-------+-----+--------+------+------+--------+-------+------+---------+-----------+----------+\n",
            "|NULL   |NULL |NULL|NULL|NULL |NULL|NULL       |December 13, 2019|NULL   |NULL |NULL    |NULL  |NULL  |NULL    |NULL   |NULL  |NULL     |NULL       |NULL      |\n",
            "|NULL   |NULL |NULL|NULL|NULL |NULL|NULL       |May 1, 2020      |NULL   |NULL |NULL    |NULL  |NULL  |NULL    |NULL   |NULL  |NULL     |NULL       |NULL      |\n",
            "|NULL   |NULL |NULL|NULL|NULL |NULL|NULL       |November 12, 2019|NULL   |NULL |NULL    |NULL  |NULL  |NULL    |NULL   |NULL  |NULL     |NULL       |NULL      |\n",
            "|NULL   |NULL |NULL|NULL|NULL |NULL|NULL       |November 12, 2019|NULL   |NULL |NULL    |NULL  |NULL  |NULL    |NULL   |NULL  |NULL     |NULL       |NULL      |\n",
            "|NULL   |NULL |NULL|NULL|NULL |NULL|NULL       |May 1, 2020      |NULL   |NULL |NULL    |NULL  |NULL  |NULL    |NULL   |NULL  |NULL     |NULL       |NULL      |\n",
            "|NULL   |NULL |NULL|NULL|NULL |NULL|NULL       |November 12, 2019|NULL   |NULL |NULL    |NULL  |NULL  |NULL    |NULL   |NULL  |NULL     |NULL       |NULL      |\n",
            "|NULL   |NULL |NULL|NULL|NULL |NULL|NULL       |April 28, 2020   |NULL   |NULL |NULL    |NULL  |NULL  |NULL    |NULL   |NULL  |NULL     |NULL       |NULL      |\n",
            "|NULL   |NULL |NULL|NULL|NULL |NULL|NULL       |May 1, 2020      |NULL   |NULL |NULL    |NULL  |NULL  |NULL    |NULL   |NULL  |NULL     |NULL       |NULL      |\n",
            "|NULL   |NULL |NULL|NULL|NULL |NULL|NULL       |May 1, 2020      |NULL   |NULL |NULL    |NULL  |NULL  |NULL    |NULL   |NULL  |NULL     |NULL       |NULL      |\n",
            "|NULL   |NULL |NULL|NULL|NULL |NULL|NULL       |May 1, 2020      |NULL   |NULL |NULL    |NULL  |NULL  |NULL    |NULL   |NULL  |NULL     |NULL       |NULL      |\n",
            "|NULL   |NULL |NULL|NULL|NULL |NULL|NULL       |November 12, 2019|NULL   |NULL |NULL    |NULL  |NULL  |NULL    |NULL   |NULL  |NULL     |NULL       |NULL      |\n",
            "|NULL   |NULL |NULL|NULL|NULL |NULL|NULL       |November 12, 2019|NULL   |NULL |NULL    |NULL  |NULL  |NULL    |NULL   |NULL  |NULL     |NULL       |NULL      |\n",
            "|NULL   |NULL |NULL|NULL|NULL |NULL|NULL       |November 12, 2019|NULL   |NULL |NULL    |NULL  |NULL  |NULL    |NULL   |NULL  |NULL     |NULL       |NULL      |\n",
            "|NULL   |NULL |NULL|NULL|NULL |NULL|NULL       |November 12, 2019|NULL   |NULL |NULL    |NULL  |NULL  |NULL    |NULL   |NULL  |NULL     |NULL       |NULL      |\n",
            "|NULL   |NULL |NULL|NULL|NULL |NULL|NULL       |November 12, 2019|NULL   |NULL |NULL    |NULL  |NULL  |NULL    |NULL   |NULL  |NULL     |NULL       |NULL      |\n",
            "|NULL   |NULL |NULL|NULL|NULL |NULL|NULL       |November 12, 2019|NULL   |NULL |NULL    |NULL  |NULL  |NULL    |NULL   |NULL  |NULL     |NULL       |NULL      |\n",
            "|NULL   |NULL |NULL|NULL|NULL |NULL|NULL       |November 12, 2019|NULL   |NULL |NULL    |NULL  |NULL  |NULL    |NULL   |NULL  |NULL     |NULL       |NULL      |\n",
            "|NULL   |NULL |NULL|NULL|NULL |NULL|NULL       |November 29, 2019|NULL   |NULL |NULL    |NULL  |NULL  |NULL    |NULL   |NULL  |NULL     |NULL       |NULL      |\n",
            "|NULL   |NULL |NULL|NULL|NULL |NULL|NULL       |November 12, 2019|NULL   |NULL |NULL    |NULL  |NULL  |NULL    |NULL   |NULL  |NULL     |NULL       |NULL      |\n",
            "|NULL   |NULL |NULL|NULL|NULL |NULL|NULL       |November 12, 2019|NULL   |NULL |NULL    |NULL  |NULL  |NULL    |NULL   |NULL  |NULL     |NULL       |NULL      |\n",
            "+-------+-----+----+----+-----+----+-----------+-----------------+-------+-----+--------+------+------+--------+-------+------+---------+-----------+----------+\n",
            "only showing top 20 rows\n",
            "\n"
          ]
        }
      ],
      "source": [
        "disney_df.filter(disney_df[\"director\"].isNull()).show(truncate=False)"
      ]
    },
    {
      "cell_type": "code",
      "execution_count": 61,
      "metadata": {
        "colab": {
          "base_uri": "https://localhost:8080/"
        },
        "id": "fQM0bRUHiMVw",
        "outputId": "38e77f0a-9cac-4e70-a940-51477efe6cf7"
      },
      "outputs": [
        {
          "data": {
            "text/plain": [
              "98"
            ]
          },
          "execution_count": 61,
          "metadata": {},
          "output_type": "execute_result"
        }
      ],
      "source": [
        "disney_df.filter(col(\"director\").isNull()).count()\n",
        "\n",
        "#HW: count of nulls in each and every column"
      ]
    },
    {
      "cell_type": "code",
      "execution_count": 59,
      "metadata": {
        "colab": {
          "base_uri": "https://localhost:8080/"
        },
        "id": "kjRmuWYMipHy",
        "outputId": "cdd86f79-28b8-4237-90cb-df675a2a5a39"
      },
      "outputs": [
        {
          "name": "stdout",
          "output_type": "stream",
          "text": [
            "+----------+--------------------+--------------------+------+---------+-----+-----------+-----------------+-------+--------------------+--------------------+--------------------+--------------------+----------------+--------------------+--------------------+---------+-----------+----------+\n",
            "|   imdb_id|               title|                plot|  type|    rated| year|released_at|         added_at|runtime|               genre|            director|              writer|              actors|        language|             country|              awards|metascore|imdb_rating|imdb_votes|\n",
            "+----------+--------------------+--------------------+------+---------+-----+-----------+-----------------+-------+--------------------+--------------------+--------------------+--------------------+----------------+--------------------+--------------------+---------+-----------+----------+\n",
            "| tt0147800|10 Things I Hate ...|A pretty, popular...| movie|    PG-13| 1999|31 Mar 1999|November 12, 2019| 97 min|Comedy, Drama, Ro...|          Gil Junger|Karen McCullah, K...|Heath Ledger, Jul...| English, French|                 USA|2 wins & 13 nomin...|       70|        7.3|   283,945|\n",
            "| tt7019028|101 Dalmatian Street|This series follo...|series|      N/A|2018–|25 Mar 2019|February 28, 2020|    N/A|Animation, Comedy...|                 N/A|                 N/A|Josh Brener, Mich...|         English|     UK, USA, Canada|                 N/A|      N/A|        6.2|       124|\n",
            "| tt0115433|      101 Dalmatians|An evil high-fash...| movie|        G| 1996|27 Nov 1996|November 12, 2019|103 min|Adventure, Comedy...|       Stephen Herek|Dodie Smith (nove...|Glenn Close, Jeff...|English, Spanish|             USA, UK|Nominated for 1 G...|       49|        5.7|    97,785|\n",
            "| tt0324941|101 Dalmatians 2:...|Being one of 101 ...| movie|        G| 2002|21 Jan 2003|November 12, 2019| 74 min|Animation, Advent...|Jim Kammerud, Bri...|Jim Kammerud (sto...|Barry Bostwick, J...|         English|                 USA|5 wins & 10 nomin...|      N/A|        5.8|     7,434|\n",
            "| tt0211181|      102 Dalmatians|Cruella DeVil get...| movie|        G| 2000|22 Nov 2000|November 12, 2019|100 min|Adventure, Comedy...|          Kevin Lima|Dodie Smith (nove...|Glenn Close, Géra...|         English|             USA, UK|Nominated for 1 O...|       35|        4.9|    33,444|\n",
            "| tt1846442|12 Dates of Chris...|A story that foll...| movie|       PG| 2011|11 Dec 2011|November 12, 2019| 90 min|Comedy, Fantasy, ...|        James Hayman|Aaron Mendelsohn ...|Laura Miyata, Vij...|         English|                 USA|       1 nomination.|      N/A|        6.3|     4,933|\n",
            "| tt0046672|20,000 Leagues Un...|A ship sent to in...| movie|        G| 1954|20 Jul 1955|November 12, 2019|127 min|Adventure, Drama,...|   Richard Fleischer|Earl Felton (scre...|Kirk Douglas, Jam...|         English|                 USA|Won 2 Oscars. Ano...|       83|        7.2|    27,761|\n",
            "| tt0120623|        A Bug's Life|A misfit ant, loo...| movie|        G| 1998|25 Nov 1998|November 12, 2019| 95 min|Animation, Advent...|John Lasseter, An...|John Lasseter (or...|Dave Foley, Kevin...|         English|                 USA|Nominated for 1 O...|       77|        7.2|   257,065|\n",
            "|tt12076020|A Celebration of ...|                 N/A| movie|      N/A| 2020|10 Apr 2020|   April 10, 2020|    N/A|               Music|       Ron de Moraes|                 N/A|Benjamin Bratt, E...|         English|                 USA|                 N/A|      N/A|        7.6|        35|\n",
            "| tt0113198|       A Goofy Movie|When Max makes a ...| movie|        G| 1995|07 Apr 1995|November 12, 2019| 78 min|Animation, Advent...|          Kevin Lima|Jymn Magon (story...|Bill Farmer, Jaso...|         English|USA, Australia, F...|      5 nominations.|      N/A|        6.8|    43,655|\n",
            "| tt0113538|A Kid in King Art...|A Little League p...| movie|       PG| 1995|11 Aug 1995|November 12, 2019| 89 min|Adventure, Comedy...|    Michael Gottlieb|Michael Part, Rob...|Thomas Ian Nichol...|         English|    USA, Hungary, UK|       1 nomination.|       34|        4.7|     5,479|\n",
            "| tt0038674|  A Knight for a Day|By accident, Cedr...| movie| APPROVED| 1946|08 Mar 1946|November 12, 2019|  7 min|Animation, Short,...|         Jack Hannah|   Bill Peet (story)|        Pinto Colvig|         English|                 USA|                 N/A|      N/A|        7.0|       488|\n",
            "| tt0282123|A Ring of Endless...|Based on the Nove...| movie|     TV-G| 2002|23 Aug 2002|November 12, 2019| 88 min|Drama, Family, Ro...|         Greg Beeman|Madeleine L'Engle...|Mischa Barton, Ry...|         English|                 USA|2 wins & 1 nomina...|      N/A|        6.1|     1,042|\n",
            "| tt0287003|A Tale of Two Cri...|A bear cub and a ...| movie|        G| 1977|22 Jun 1977|    April 3, 2020| 48 min|   Adventure, Family|         Jack Speirs|         Jack Speirs|         Mayf Nutter|         English|                 USA|                 N/A|      N/A|        7.1|        59|\n",
            "| tt1620680|   A Wrinkle in Time|After the disappe...| movie|       PG| 2018|09 Mar 2018|   March 25, 2020|109 min|Adventure, Family...|        Ava DuVernay|Jennifer Lee (scr...|Storm Reid, Oprah...|         English|                 USA|5 wins & 15 nomin...|       53|        4.2|    38,659|\n",
            "| tt6139732|             Aladdin|A kind-hearted st...| movie|       PG| 2019|24 May 2019|  January 8, 2020|128 min|Adventure, Family...|         Guy Ritchie|John August (scre...|Will Smith, Mena ...| English, Arabic|                 USA|7 wins & 32 nomin...|       53|        7.0|   204,537|\n",
            "| tt0103639|             Aladdin|A kindhearted str...| movie|        G| 1992|25 Nov 1992|November 12, 2019| 90 min|Animation, Advent...|Ron Clements, Joh...|Ron Clements (scr...|Scott Weinger, Ro...|         English|                 USA|Won 2 Oscars. Ano...|       86|        8.0|   356,283|\n",
            "| tt0115491|Aladdin and the K...|The King of Thiev...| movie|Not Rated| 1996|13 Aug 1996|November 12, 2019| 81 min|Animation, Advent...|          Tad Stones|Mark McCorkle (sc...|Val Bettin, Jim C...|         English|                 USA|2 wins & 1 nomina...|      N/A|        6.4|    31,603|\n",
            "| tt0107952|Aladdin and the R...|Jafar comes for r...| movie|        G| 1994|20 May 1994|November 12, 2019| 69 min|Animation, Advent...|Toby Shelton, Tad...|Duane Capizzi (st...|Jason Alexander, ...|         English|                 USA|       1 nomination.|      N/A|        5.9|    25,623|\n",
            "| tt0043274| Alice in Wonderland|Alice stumbles in...| movie|        G| 1951|14 Sep 1951|November 12, 2019| 75 min|Animation, Advent...|Clyde Geronimi, W...|Lewis Carroll (ad...|Kathryn Beaumont,...|         English|                 USA|Nominated for 1 O...|       68|        7.4|   123,377|\n",
            "+----------+--------------------+--------------------+------+---------+-----+-----------+-----------------+-------+--------------------+--------------------+--------------------+--------------------+----------------+--------------------+--------------------+---------+-----------+----------+\n",
            "only showing top 20 rows\n",
            "\n"
          ]
        }
      ],
      "source": [
        "# Replacing Null Values\n",
        "disney_filled = disney_df.fillna({\"metascore\": 0})\n",
        "disney_filled.show(truncate=True)\n",
        "\n",
        "\n"
      ]
    },
    {
      "cell_type": "code",
      "execution_count": 60,
      "metadata": {
        "colab": {
          "base_uri": "https://localhost:8080/"
        },
        "id": "_RsyBlnXjLfa",
        "outputId": "d237a24c-5083-4a4e-a792-3314079301ab"
      },
      "outputs": [
        {
          "name": "stdout",
          "output_type": "stream",
          "text": [
            "+----------+------------------------------------------+-----------------------------------------------------------------------------------------------------------------------------------------------------------------------------------------------+------+---------+-----+-----------+-----------------+-------+---------------------------------------------------------------+-----------------------------------------------+--------------------------------------------------------------------------------------------------------------------------------------------------------------------------------------------------------------------------------------------------------------------------------------------------------------------------------------------------------------------------------------------------------------------------------------------------------------------------------------------------+------------------------------------------------------------------+----------------+------------------------------+-------------------------------------------------------------+---------+-----------+----------+\n",
            "|imdb_id   |title                                     |plot                                                                                                                                                                                           |type  |rated    |year |released_at|added_at         |runtime|genre                                                          |director                                       |writer                                                                                                                                                                                                                                                                                                                                                                                                                                                                                            |actors                                                            |language        |country                       |awards                                                       |metascore|imdb_rating|imdb_votes|\n",
            "+----------+------------------------------------------+-----------------------------------------------------------------------------------------------------------------------------------------------------------------------------------------------+------+---------+-----+-----------+-----------------+-------+---------------------------------------------------------------+-----------------------------------------------+--------------------------------------------------------------------------------------------------------------------------------------------------------------------------------------------------------------------------------------------------------------------------------------------------------------------------------------------------------------------------------------------------------------------------------------------------------------------------------------------------+------------------------------------------------------------------+----------------+------------------------------+-------------------------------------------------------------+---------+-----------+----------+\n",
            "|tt0147800 |10 Things I Hate About You                |A pretty, popular teenager can't go out on a date until her ill-tempered older sister does.                                                                                                    |movie |PG-13    |1999 |31 Mar 1999|November 12, 2019|97 min |Comedy, Drama, Romance                                         |Gil Junger                                     |Karen McCullah, Kirsten Smith                                                                                                                                                                                                                                                                                                                                                                                                                                                                     |Heath Ledger, Julia Stiles, Joseph Gordon-Levitt, Larisa Oleynik  |English, French |USA                           |2 wins & 13 nominations.                                     |70       |7.3        |283,945   |\n",
            "|tt7019028 |101 Dalmatian Street                      |This series follows the lives of Delilah and Doug, descendants of Pongo and Perdita, and their 99 dalmatian pups at 101 Dalmatian Street, Camden Town.                                         |series|N/A      |2018–|25 Mar 2019|February 28, 2020|N/A    |Animation, Comedy, Family                                      |N/A                                            |N/A                                                                                                                                                                                                                                                                                                                                                                                                                                                                                               |Josh Brener, Michaela Dietz, Bert Davis, Abigail Zoe Lewis        |English         |UK, USA, Canada               |N/A                                                          |N/A      |6.2        |124       |\n",
            "|tt0115433 |101 Dalmatians                            |An evil high-fashion designer plots to steal Dalmatian puppies in order to make an extravagant fur coat, but instead creates an extravagant mess.                                              |movie |G        |1996 |27 Nov 1996|November 12, 2019|103 min|Adventure, Comedy, Crime, Family                               |Stephen Herek                                  |Dodie Smith (novel), John Hughes (screenplay)                                                                                                                                                                                                                                                                                                                                                                                                                                                     |Glenn Close, Jeff Daniels, Joely Richardson, Joan Plowright       |English, Spanish|USA, UK                       |Nominated for 1 Golden Globe. Another 3 wins & 9 nominations.|49       |5.7        |97,785    |\n",
            "|tt0324941 |101 Dalmatians 2: Patch's London Adventure|Being one of 101 takes its toll on Patch, who doesn't feel unique. When he's accidentally left behind on moving day, he meets his idol, Thunderbolt, who enlists him on a publicity campaign.  |movie |G        |2002 |21 Jan 2003|November 12, 2019|74 min |Animation, Adventure, Comedy, Family, Musical                  |Jim Kammerud, Brian Smith                      |Jim Kammerud (story), Dan Root (story), Garrett K. Schiff (story), Brian Smith (story), Jim Kammerud (screenplay), Brian Smith (screenplay), Dodie Smith (novel), Michael Lucker, Temple Mathews (additional script material)                                                                                                                                                                                                                                                                     |Barry Bostwick, Jason Alexander, Martin Short, Bobby Lockwood     |English         |USA                           |5 wins & 10 nominations.                                     |N/A      |5.8        |7,434     |\n",
            "|tt0211181 |102 Dalmatians                            |Cruella DeVil gets out of prison and goes after the puppies once more.                                                                                                                         |movie |G        |2000 |22 Nov 2000|November 12, 2019|100 min|Adventure, Comedy, Family                                      |Kevin Lima                                     |Dodie Smith (novel), Kristen Buckley (story), Brian Regan (story), Kristen Buckley (screenplay), Brian Regan (screenplay), Bob Tzudiker (screenplay), Noni White (screenplay)                                                                                                                                                                                                                                                                                                                     |Glenn Close, Gérard Depardieu, Ioan Gruffudd, Alice Evans         |English         |USA, UK                       |Nominated for 1 Oscar. Another 1 win & 7 nominations.        |35       |4.9        |33,444    |\n",
            "|tt1846442 |12 Dates of Christmas                     |A story that follows Kate, a young woman who after a horrible blind date on Christmas Eve, wakes up to find she is re-living that same day and date all over again.                            |movie |PG       |2011 |11 Dec 2011|November 12, 2019|90 min |Comedy, Fantasy, Romance                                       |James Hayman                                   |Aaron Mendelsohn (teleplay), Janet Brownell (teleplay), Aaron Mendelsohn (story), Blake Harris (story)                                                                                                                                                                                                                                                                                                                                                                                            |Laura Miyata, Vijay Mehta, Amy Smart, Audrey Dwyer                |English         |USA                           |1 nomination.                                                |N/A      |6.3        |4,933     |\n",
            "|tt0046672 |20,000 Leagues Under the Sea              |A ship sent to investigate a wave of mysterious sinkings encounters the advanced submarine, the Nautilus, commanded by Captain Nemo.                                                           |movie |G        |1954 |20 Jul 1955|November 12, 2019|127 min|Adventure, Drama, Family, Fantasy, Sci-Fi                      |Richard Fleischer                              |Earl Felton (screenplay)                                                                                                                                                                                                                                                                                                                                                                                                                                                                          |Kirk Douglas, James Mason, Paul Lukas, Peter Lorre                |English         |USA                           |Won 2 Oscars. Another 3 wins & 3 nominations.                |83       |7.2        |27,761    |\n",
            "|tt0120623 |A Bug's Life                              |A misfit ant, looking for \"warriors\" to save his colony from greedy grasshoppers, recruits a group of bugs that turn out to be an inept circus troupe.                                         |movie |G        |1998 |25 Nov 1998|November 12, 2019|95 min |Animation, Adventure, Comedy, Family                           |John Lasseter, Andrew Stanton(co-director)     |John Lasseter (original story by), Andrew Stanton (original story by), Joe Ranft (original story by), Andrew Stanton (screenplay by), Don McEnery (screenplay by), Bob Shaw (screenplay by)                                                                                                                                                                                                                                                                                                       |Dave Foley, Kevin Spacey, Julia Louis-Dreyfus, Hayden Panettiere  |English         |USA                           |Nominated for 1 Oscar. Another 14 wins & 20 nominations.     |77       |7.2        |257,065   |\n",
            "|tt12076020|A Celebration of the Music from Coco      |N/A                                                                                                                                                                                            |movie |N/A      |2020 |10 Apr 2020|April 10, 2020   |N/A    |Music                                                          |Ron de Moraes                                  |N/A                                                                                                                                                                                                                                                                                                                                                                                                                                                                                               |Benjamin Bratt, Eva Longoria                                      |English         |USA                           |N/A                                                          |N/A      |7.6        |35        |\n",
            "|tt0113198 |A Goofy Movie                             |When Max makes a preposterous promise to a girl he has a crush on, his chances to fulfilling it seem hopeless when he is dragged onto a cross-country trip with his embarrassing father, Goofy.|movie |G        |1995 |07 Apr 1995|November 12, 2019|78 min |Animation, Adventure, Comedy, Family, Musical, Romance         |Kevin Lima                                     |Jymn Magon (story), Jymn Magon (screenplay), Chris Matheson (screenplay), Brian Pimental (screenplay), Brian Pimental (story supervisor), Curtis Armstrong (additional written material), John Doolittle (additional written material)                                                                                                                                                                                                                                                            |Bill Farmer, Jason Marsden, Jim Cummings, Kellie Martin           |English         |USA, Australia, France, Canada|5 nominations.                                               |N/A      |6.8        |43,655    |\n",
            "|tt0113538 |A Kid in King Arthur's Court              |A Little League player is sent back into medieval times where he is given the task of saving Camelot.                                                                                          |movie |PG       |1995 |11 Aug 1995|November 12, 2019|89 min |Adventure, Comedy, Family, Fantasy, Romance                    |Michael Gottlieb                               |Michael Part, Robert L. Levy                                                                                                                                                                                                                                                                                                                                                                                                                                                                      |Thomas Ian Nicholas, Joss Ackland, Art Malik, Paloma Baeza        |English         |USA, Hungary, UK              |1 nomination.                                                |34       |4.7        |5,479     |\n",
            "|tt0038674 |A Knight for a Day                        |By accident, Cedric (Goofy), replaces his master, Sir Loinsteak, in the armor just before the joust with champion Sir Cumference.                                                              |movie |APPROVED |1946 |08 Mar 1946|November 12, 2019|7 min  |Animation, Short, Comedy                                       |Jack Hannah                                    |Bill Peet (story)                                                                                                                                                                                                                                                                                                                                                                                                                                                                                 |Pinto Colvig                                                      |English         |USA                           |N/A                                                          |N/A      |7.0        |488       |\n",
            "|tt0282123 |A Ring of Endless Light                   |Based on the Novel by Madeline L'Engle. During the summer her grandfather is dying of leukemia and death seems all around, 15-year-old Vicky finds comfort with the pod of dolphins with ...   |movie |TV-G     |2002 |23 Aug 2002|November 12, 2019|88 min |Drama, Family, Romance                                         |Greg Beeman                                    |Madeleine L'Engle (novel), Marita Giovanni (teleplay), Bruce Graham (teleplay)                                                                                                                                                                                                                                                                                                                                                                                                                    |Mischa Barton, Ryan Merriman, Jared Padalecki, Scarlett Pomers    |English         |USA                           |2 wins & 1 nomination.                                       |N/A      |6.1        |1,042     |\n",
            "|tt0287003 |A Tale of Two Critters                    |A bear cub and a raccoon become fast friends when they're swept away down a river, away from their families.                                                                                   |movie |G        |1977 |22 Jun 1977|April 3, 2020    |48 min |Adventure, Family                                              |Jack Speirs                                    |Jack Speirs                                                                                                                                                                                                                                                                                                                                                                                                                                                                                       |Mayf Nutter                                                       |English         |USA                           |N/A                                                          |N/A      |7.1        |59        |\n",
            "|tt1620680 |A Wrinkle in Time                         |After the disappearance of her scientist father, three peculiar beings send Meg, her brother, and her friend to space in order to find him.                                                    |movie |PG       |2018 |09 Mar 2018|March 25, 2020   |109 min|Adventure, Family, Fantasy, Sci-Fi                             |Ava DuVernay                                   |Jennifer Lee (screenplay by), Jeff Stockwell (screenplay by), Madeleine L'Engle (based upon the novel by)                                                                                                                                                                                                                                                                                                                                                                                         |Storm Reid, Oprah Winfrey, Reese Witherspoon, Mindy Kaling        |English         |USA                           |5 wins & 15 nominations.                                     |53       |4.2        |38,659    |\n",
            "|tt6139732 |Aladdin                                   |A kind-hearted street urchin and a power-hungry Grand Vizier vie for a magic lamp that has the power to make their deepest wishes come true.                                                   |movie |PG       |2019 |24 May 2019|January 8, 2020  |128 min|Adventure, Family, Fantasy, Musical, Romance                   |Guy Ritchie                                    |John August (screenplay by), Guy Ritchie (screenplay by)                                                                                                                                                                                                                                                                                                                                                                                                                                          |Will Smith, Mena Massoud, Naomi Scott, Marwan Kenzari             |English, Arabic |USA                           |7 wins & 32 nominations.                                     |53       |7.0        |204,537   |\n",
            "|tt0103639 |Aladdin                                   |A kindhearted street urchin and a power-hungry Grand Vizier vie for a magic lamp that has the power to make their deepest wishes come true.                                                    |movie |G        |1992 |25 Nov 1992|November 12, 2019|90 min |Animation, Adventure, Comedy, Family, Fantasy, Musical, Romance|Ron Clements, John Musker                      |Ron Clements (screenplay by), John Musker (screenplay by), Ted Elliott (screenplay by), Terry Rossio (screenplay by), Burny Mattinson (story), Roger Allers (story), Daan Jippes (story), Kevin Harkey (story), Sue C. Nichols (story), Francis Glebas (story), Darrell Rooney (story), Larry Leker (story), James Fujii (story), Kirk Hanson (story), Kevin Lima (story), Rebecca Rees (story), David S. Smith (story), Chris Sanders (story), Brian Pimental (story), Patrick A. Ventura (story)|Scott Weinger, Robin Williams, Linda Larkin, Jonathan Freeman     |English         |USA                           |Won 2 Oscars. Another 31 wins & 22 nominations.              |86       |8.0        |356,283   |\n",
            "|tt0115491 |Aladdin and the King of Thieves           |The King of Thieves disrupts Aladdin and Jasmine's long-anticipated wedding, looking for an oracle that will lead him to an even bigger treasure. His true identity causes trouble for Aladdin.|movie |Not Rated|1996 |13 Aug 1996|November 12, 2019|81 min |Animation, Adventure, Comedy, Family, Fantasy, Musical, Romance|Tad Stones                                     |Mark McCorkle (screenplay by), Robert Schooley (screenplay)                                                                                                                                                                                                                                                                                                                                                                                                                                       |Val Bettin, Jim Cummings, Gilbert Gottfried, Linda Larkin         |English         |USA                           |2 wins & 1 nomination.                                       |N/A      |6.4        |31,603    |\n",
            "|tt0107952 |Aladdin and the Return of Jafar           |Jafar comes for revenge on Aladdin, using a foolish thief and Iago's treachery to find a way back into power.                                                                                  |movie |G        |1994 |20 May 1994|November 12, 2019|69 min |Animation, Adventure, Comedy, Family, Fantasy, Musical, Romance|Toby Shelton, Tad Stones, Alan Zaslove         |Duane Capizzi (story), Doug Langdale (story), Mark McCorkle (story), Robert Schooley (story), Tad Stones (story), Kevin Campbell, Mirith J. Colao, Bill Motz, Steve Roberts, Dev Ross, Bob Roth, Jan Strnad, Brian Swenlin                                                                                                                                                                                                                                                                        |Jason Alexander, Jonathan Freeman, Jeff Bennett, Gilbert Gottfried|English         |USA                           |1 nomination.                                                |N/A      |5.9        |25,623    |\n",
            "|tt0043274 |Alice in Wonderland                       |Alice stumbles into the world of Wonderland. Will she get home? Not if the Queen of Hearts has her way.                                                                                        |movie |G        |1951 |14 Sep 1951|November 12, 2019|75 min |Animation, Adventure, Family, Fantasy, Musical                 |Clyde Geronimi, Wilfred Jackson, Hamilton Luske|Lewis Carroll (adaptation), Winston Hibler (story), Ted Sears (story), Bill Peet (story), Erdman Penner (story), Joe Rinaldi (story), Milt Banta (story), William Cottrell (story), Dick Kelsey (story), Joe Grant (story), Dick Huemer (story), Del Connell (story), Tom Oreb (story), John Walbridge (story)                                                                                                                                                                                    |Kathryn Beaumont, Ed Wynn, Richard Haydn, Sterling Holloway       |English         |USA                           |Nominated for 1 Oscar. Another 1 nomination.                 |68       |7.4        |123,377   |\n",
            "+----------+------------------------------------------+-----------------------------------------------------------------------------------------------------------------------------------------------------------------------------------------------+------+---------+-----+-----------+-----------------+-------+---------------------------------------------------------------+-----------------------------------------------+--------------------------------------------------------------------------------------------------------------------------------------------------------------------------------------------------------------------------------------------------------------------------------------------------------------------------------------------------------------------------------------------------------------------------------------------------------------------------------------------------+------------------------------------------------------------------+----------------+------------------------------+-------------------------------------------------------------+---------+-----------+----------+\n",
            "only showing top 20 rows\n",
            "\n"
          ]
        }
      ],
      "source": [
        "# Replacing Null Values\n",
        "disney_filled = disney_df.fillna({\"director\": \"Unknown\"})\n",
        "disney_filled.show(truncate=False)"
      ]
    },
    {
      "cell_type": "code",
      "execution_count": 62,
      "metadata": {
        "colab": {
          "base_uri": "https://localhost:8080/"
        },
        "id": "hL7u4mgEjZxL",
        "outputId": "c7c02ee8-3fd0-4de8-e6e8-1b5feee23b99"
      },
      "outputs": [
        {
          "data": {
            "text/plain": [
              "0"
            ]
          },
          "execution_count": 62,
          "metadata": {},
          "output_type": "execute_result"
        }
      ],
      "source": [
        "disney_filled.filter(col(\"director\").isNull()).count()"
      ]
    },
    {
      "cell_type": "code",
      "execution_count": 63,
      "metadata": {
        "colab": {
          "base_uri": "https://localhost:8080/"
        },
        "id": "SZTEkgEujhnK",
        "outputId": "91a56623-6df1-4fd9-b8b8-ed40f711d723"
      },
      "outputs": [
        {
          "name": "stdout",
          "output_type": "stream",
          "text": [
            "+----------+--------------------+--------------------+------+---------+-----+-----------+-----------------+-------+--------------------+--------------------+--------------------+--------------------+----------------+--------------------+--------------------+---------+-----------+----------+\n",
            "|   imdb_id|               title|                plot|  type|    rated| year|released_at|         added_at|runtime|               genre|            director|              writer|              actors|        language|             country|              awards|metascore|imdb_rating|imdb_votes|\n",
            "+----------+--------------------+--------------------+------+---------+-----+-----------+-----------------+-------+--------------------+--------------------+--------------------+--------------------+----------------+--------------------+--------------------+---------+-----------+----------+\n",
            "| tt0147800|10 Things I Hate ...|A pretty, popular...| movie|    PG-13| 1999|31 Mar 1999|November 12, 2019| 97 min|Comedy, Drama, Ro...|          Gil Junger|Karen McCullah, K...|Heath Ledger, Jul...| English, French|                 USA|2 wins & 13 nomin...|       70|        7.3|   283,945|\n",
            "| tt7019028|101 Dalmatian Street|This series follo...|series|      N/A|2018–|25 Mar 2019|February 28, 2020|    N/A|Animation, Comedy...|                 N/A|                 N/A|Josh Brener, Mich...|         English|     UK, USA, Canada|                 N/A|      N/A|        6.2|       124|\n",
            "| tt0115433|      101 Dalmatians|An evil high-fash...| movie|        G| 1996|27 Nov 1996|November 12, 2019|103 min|Adventure, Comedy...|       Stephen Herek|Dodie Smith (nove...|Glenn Close, Jeff...|English, Spanish|             USA, UK|Nominated for 1 G...|       49|        5.7|    97,785|\n",
            "| tt0324941|101 Dalmatians 2:...|Being one of 101 ...| movie|        G| 2002|21 Jan 2003|November 12, 2019| 74 min|Animation, Advent...|Jim Kammerud, Bri...|Jim Kammerud (sto...|Barry Bostwick, J...|         English|                 USA|5 wins & 10 nomin...|      N/A|        5.8|     7,434|\n",
            "| tt0211181|      102 Dalmatians|Cruella DeVil get...| movie|        G| 2000|22 Nov 2000|November 12, 2019|100 min|Adventure, Comedy...|          Kevin Lima|Dodie Smith (nove...|Glenn Close, Géra...|         English|             USA, UK|Nominated for 1 O...|       35|        4.9|    33,444|\n",
            "| tt1846442|12 Dates of Chris...|A story that foll...| movie|       PG| 2011|11 Dec 2011|November 12, 2019| 90 min|Comedy, Fantasy, ...|        James Hayman|Aaron Mendelsohn ...|Laura Miyata, Vij...|         English|                 USA|       1 nomination.|      N/A|        6.3|     4,933|\n",
            "| tt0046672|20,000 Leagues Un...|A ship sent to in...| movie|        G| 1954|20 Jul 1955|November 12, 2019|127 min|Adventure, Drama,...|   Richard Fleischer|Earl Felton (scre...|Kirk Douglas, Jam...|         English|                 USA|Won 2 Oscars. Ano...|       83|        7.2|    27,761|\n",
            "| tt0120623|        A Bug's Life|A misfit ant, loo...| movie|        G| 1998|25 Nov 1998|November 12, 2019| 95 min|Animation, Advent...|John Lasseter, An...|John Lasseter (or...|Dave Foley, Kevin...|         English|                 USA|Nominated for 1 O...|       77|        7.2|   257,065|\n",
            "|tt12076020|A Celebration of ...|                 N/A| movie|      N/A| 2020|10 Apr 2020|   April 10, 2020|    N/A|               Music|       Ron de Moraes|                 N/A|Benjamin Bratt, E...|         English|                 USA|                 N/A|      N/A|        7.6|        35|\n",
            "| tt0113198|       A Goofy Movie|When Max makes a ...| movie|        G| 1995|07 Apr 1995|November 12, 2019| 78 min|Animation, Advent...|          Kevin Lima|Jymn Magon (story...|Bill Farmer, Jaso...|         English|USA, Australia, F...|      5 nominations.|      N/A|        6.8|    43,655|\n",
            "| tt0113538|A Kid in King Art...|A Little League p...| movie|       PG| 1995|11 Aug 1995|November 12, 2019| 89 min|Adventure, Comedy...|    Michael Gottlieb|Michael Part, Rob...|Thomas Ian Nichol...|         English|    USA, Hungary, UK|       1 nomination.|       34|        4.7|     5,479|\n",
            "| tt0038674|  A Knight for a Day|By accident, Cedr...| movie| APPROVED| 1946|08 Mar 1946|November 12, 2019|  7 min|Animation, Short,...|         Jack Hannah|   Bill Peet (story)|        Pinto Colvig|         English|                 USA|                 N/A|      N/A|        7.0|       488|\n",
            "| tt0282123|A Ring of Endless...|Based on the Nove...| movie|     TV-G| 2002|23 Aug 2002|November 12, 2019| 88 min|Drama, Family, Ro...|         Greg Beeman|Madeleine L'Engle...|Mischa Barton, Ry...|         English|                 USA|2 wins & 1 nomina...|      N/A|        6.1|     1,042|\n",
            "| tt0287003|A Tale of Two Cri...|A bear cub and a ...| movie|        G| 1977|22 Jun 1977|    April 3, 2020| 48 min|   Adventure, Family|         Jack Speirs|         Jack Speirs|         Mayf Nutter|         English|                 USA|                 N/A|      N/A|        7.1|        59|\n",
            "| tt1620680|   A Wrinkle in Time|After the disappe...| movie|       PG| 2018|09 Mar 2018|   March 25, 2020|109 min|Adventure, Family...|        Ava DuVernay|Jennifer Lee (scr...|Storm Reid, Oprah...|         English|                 USA|5 wins & 15 nomin...|       53|        4.2|    38,659|\n",
            "| tt6139732|             Aladdin|A kind-hearted st...| movie|       PG| 2019|24 May 2019|  January 8, 2020|128 min|Adventure, Family...|         Guy Ritchie|John August (scre...|Will Smith, Mena ...| English, Arabic|                 USA|7 wins & 32 nomin...|       53|        7.0|   204,537|\n",
            "| tt0103639|             Aladdin|A kindhearted str...| movie|        G| 1992|25 Nov 1992|November 12, 2019| 90 min|Animation, Advent...|Ron Clements, Joh...|Ron Clements (scr...|Scott Weinger, Ro...|         English|                 USA|Won 2 Oscars. Ano...|       86|        8.0|   356,283|\n",
            "| tt0115491|Aladdin and the K...|The King of Thiev...| movie|Not Rated| 1996|13 Aug 1996|November 12, 2019| 81 min|Animation, Advent...|          Tad Stones|Mark McCorkle (sc...|Val Bettin, Jim C...|         English|                 USA|2 wins & 1 nomina...|      N/A|        6.4|    31,603|\n",
            "| tt0107952|Aladdin and the R...|Jafar comes for r...| movie|        G| 1994|20 May 1994|November 12, 2019| 69 min|Animation, Advent...|Toby Shelton, Tad...|Duane Capizzi (st...|Jason Alexander, ...|         English|                 USA|       1 nomination.|      N/A|        5.9|    25,623|\n",
            "| tt0043274| Alice in Wonderland|Alice stumbles in...| movie|        G| 1951|14 Sep 1951|November 12, 2019| 75 min|Animation, Advent...|Clyde Geronimi, W...|Lewis Carroll (ad...|Kathryn Beaumont,...|         English|                 USA|Nominated for 1 O...|       68|        7.4|   123,377|\n",
            "+----------+--------------------+--------------------+------+---------+-----+-----------+-----------------+-------+--------------------+--------------------+--------------------+--------------------+----------------+--------------------+--------------------+---------+-----------+----------+\n",
            "only showing top 20 rows\n",
            "\n"
          ]
        }
      ],
      "source": [
        "#Replacing Nulls in Multiple Columns\n",
        "\n",
        "disney_filled = disney_df.fillna({\"metascore\": 0, \"imdb_rating\": 5.0})\n",
        "disney_filled.show(truncate=True)"
      ]
    },
    {
      "cell_type": "code",
      "execution_count": 65,
      "metadata": {
        "colab": {
          "base_uri": "https://localhost:8080/"
        },
        "id": "bPDktvhbjyrM",
        "outputId": "ca9f797f-45cc-4680-dbc3-731c2f49e140"
      },
      "outputs": [
        {
          "name": "stdout",
          "output_type": "stream",
          "text": [
            "== Parsed Logical Plan ==\n",
            "Project [imdb_id#0, title#1, plot#2, type#3, rated#4, year#5, released_at#6, added_at#7, runtime#8, genre#9, director#10, writer#11, actors#12, language#13, country#14, awards#15, coalesce(metascore#16, cast(0 as string)) AS metascore#1519, coalesce(imdb_rating#17, cast(5.0 as string)) AS imdb_rating#1520, imdb_votes#18]\n",
            "+- Relation [imdb_id#0,title#1,plot#2,type#3,rated#4,year#5,released_at#6,added_at#7,runtime#8,genre#9,director#10,writer#11,actors#12,language#13,country#14,awards#15,metascore#16,imdb_rating#17,imdb_votes#18] csv\n",
            "\n",
            "== Analyzed Logical Plan ==\n",
            "imdb_id: string, title: string, plot: string, type: string, rated: string, year: string, released_at: string, added_at: string, runtime: string, genre: string, director: string, writer: string, actors: string, language: string, country: string, awards: string, metascore: string, imdb_rating: string, imdb_votes: string\n",
            "Project [imdb_id#0, title#1, plot#2, type#3, rated#4, year#5, released_at#6, added_at#7, runtime#8, genre#9, director#10, writer#11, actors#12, language#13, country#14, awards#15, coalesce(metascore#16, cast(0 as string)) AS metascore#1519, coalesce(imdb_rating#17, cast(5.0 as string)) AS imdb_rating#1520, imdb_votes#18]\n",
            "+- Relation [imdb_id#0,title#1,plot#2,type#3,rated#4,year#5,released_at#6,added_at#7,runtime#8,genre#9,director#10,writer#11,actors#12,language#13,country#14,awards#15,metascore#16,imdb_rating#17,imdb_votes#18] csv\n",
            "\n",
            "== Optimized Logical Plan ==\n",
            "Project [imdb_id#0, title#1, plot#2, type#3, rated#4, year#5, released_at#6, added_at#7, runtime#8, genre#9, director#10, writer#11, actors#12, language#13, country#14, awards#15, coalesce(metascore#16, 0) AS metascore#1519, coalesce(imdb_rating#17, 5.0) AS imdb_rating#1520, imdb_votes#18]\n",
            "+- Relation [imdb_id#0,title#1,plot#2,type#3,rated#4,year#5,released_at#6,added_at#7,runtime#8,genre#9,director#10,writer#11,actors#12,language#13,country#14,awards#15,metascore#16,imdb_rating#17,imdb_votes#18] csv\n",
            "\n",
            "== Physical Plan ==\n",
            "*(1) Project [imdb_id#0, title#1, plot#2, type#3, rated#4, year#5, released_at#6, added_at#7, runtime#8, genre#9, director#10, writer#11, actors#12, language#13, country#14, awards#15, coalesce(metascore#16, 0) AS metascore#1519, coalesce(imdb_rating#17, 5.0) AS imdb_rating#1520, imdb_votes#18]\n",
            "+- FileScan csv [imdb_id#0,title#1,plot#2,type#3,rated#4,year#5,released_at#6,added_at#7,runtime#8,genre#9,director#10,writer#11,actors#12,language#13,country#14,awards#15,metascore#16,imdb_rating#17,imdb_votes#18] Batched: false, DataFilters: [], Format: CSV, Location: InMemoryFileIndex(1 paths)[file:/content/disney_plus_shows.csv], PartitionFilters: [], PushedFilters: [], ReadSchema: struct<imdb_id:string,title:string,plot:string,type:string,rated:string,year:string,released_at:s...\n",
            "\n"
          ]
        }
      ],
      "source": [
        "disney_filled.explain(True)"
      ]
    },
    {
      "cell_type": "code",
      "execution_count": null,
      "metadata": {
        "id": "Ixvz7w5rkVvc"
      },
      "outputs": [],
      "source": []
    }
  ],
  "metadata": {
    "colab": {
      "provenance": []
    },
    "kernelspec": {
      "display_name": "Python 3",
      "name": "python3"
    },
    "language_info": {
      "name": "python"
    }
  },
  "nbformat": 4,
  "nbformat_minor": 0
}
